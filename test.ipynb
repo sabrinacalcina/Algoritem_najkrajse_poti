{
 "cells": [
  {
   "cell_type": "code",
   "execution_count": 1,
   "metadata": {
    "collapsed": false
   },
   "outputs": [
   ],
   "source": [
    "import random\n",
    "import sage.graphs.graph_plot\n",
    "from sage.graphs.base.boost_graph import *\n",
    "from sage.plot.point import *\n",
    "import numpy"
   ]
  },
  {
   "cell_type": "code",
   "execution_count": 2,
   "metadata": {
    "collapsed": false
   },
   "outputs": [
   ],
   "source": [
    "def seznam_cen(st_opazanj, st_pov_grafa, min_cena, max_cena):\n",
    "    sur_podatki = []\n",
    "    for i in range(0, st_opazanj):\n",
    "        mer_povezav = []\n",
    "        for j in range(0, st_pov_grafa):\n",
    "            mer_povezav.append(numpy.random.random_integers(min_cena, max_cena))\n",
    "        sur_podatki.append(mer_povezav)\n",
    "    return(sur_podatki)\n",
    "\n",
    "#stevilo_pov_grafa = 2 * st_vozlisc^2 - 2 * st_vozlisc"
   ]
  },
  {
   "cell_type": "code",
   "execution_count": 3,
   "metadata": {
    "collapsed": false
   },
   "outputs": [
   ],
   "source": [
    "def mnoz(vektor1, vektor2):\n",
    "    matrika = []\n",
    "    for i in range(0,len(vektor1)):\n",
    "        vrstica =[]\n",
    "        for j in range(0, len(vektor2)):\n",
    "            vrstica.append(vektor1[i] * vektor2[j])\n",
    "        matrika.append(vrstica)\n",
    "    return(matrika)\n",
    "\n",
    "def kov_matrika(vse_utezi):\n",
    "    avr_pov = [i * 1/len(vse_utezi) for i in [sum(x) for x in zip(*vse_utezi)]]\n",
    "    #zac_mat = numpy.matrix(mnoz(numpy.subtract(vse_utezi[0],avr_pov),numpy.subtract(vse_utezi[0],avr_pov)))\n",
    "    zac_mat = mnoz(numpy.subtract(vse_utezi[0],avr_pov),numpy.subtract(vse_utezi[0],avr_pov))\n",
    "    for i in range(1, len(vse_utezi)):\n",
    "        #zac_mat += numpy.matrix(mnoz(numpy.subtract(vse_utezi[i],avr_pov),numpy.subtract(vse_utezi[i],avr_pov)))\n",
    "        zac_mat = numpy.add(zac_mat, mnoz(numpy.subtract(vse_utezi[i],avr_pov),numpy.subtract(vse_utezi[i],avr_pov)))\n",
    "    kon_mat = numpy.dot(1/len(vse_utezi), zac_mat)\n",
    "    return(kon_mat)"
   ]
  },
  {
   "cell_type": "code",
   "execution_count": 4,
   "metadata": {
    "collapsed": false
   },
   "outputs": [
   ],
   "source": [
    "def vektorcki_x(graf, zacetno, koncno):\n",
    "    vse_poti = graf.all_paths(zacetno, koncno, use_multiedges=True, report_edges=False, labels=False)\n",
    "    vse_povezave = graf.edges()\n",
    "    par = []\n",
    "    for i in range(0,len(vse_povezave)):\n",
    "        par.append(vse_povezave[i][0:2])\n",
    "    seznam_vektorjev = []\n",
    "    for i in range(0, len(vse_poti)):\n",
    "        pot = (vse_poti[i])\n",
    "        prvi_oklepaj1 = list(zip(pot, pot[1:] + pot[:1]))\n",
    "        prvi_oklepaj = prvi_oklepaj1[:-1]\n",
    "        x=[]\n",
    "        for i in range(0, len(par)):\n",
    "            if par[i] in prvi_oklepaj:\n",
    "                x.append(1)\n",
    "            else:\n",
    "                x.append(0)\n",
    "        seznam_vektorjev.append(x)\n",
    "    return(seznam_vektorjev)"
   ]
  },
  {
   "cell_type": "code",
   "execution_count": 5,
   "metadata": {
    "collapsed": false
   },
   "outputs": [
   ],
   "source": [
    "def grid_graf(st_opazanj, st_vozlisc, min_cena, max_cena):\n",
    "    st_pov_grafa = 2 * st_vozlisc^2 - 2 * st_vozlisc\n",
    "    utezi = seznam_cen(st_opazanj, st_pov_grafa, min_cena, max_cena)\n",
    "    #graf_seznam = vsa_vozlisca(st_vozlisc, st_pov_grafa)\n",
    "    graf_seznam = graphs.Grid2dGraph(st_vozlisc, st_vozlisc).edges()\n",
    "    nov = [] #najprej spremeniva v list\n",
    "    for i in range(0,len(graf_seznam)):\n",
    "        nov.append(list(graf_seznam[i]))\n",
    "    konec = [] #dodava še ceno, v obliki ki jo sprjema digraph\n",
    "    seznam_grafov = []\n",
    "    for j in range(0,len(utezi)):\n",
    "        zadnji = []\n",
    "        for i in range(0,len(nov)):\n",
    "            vmesni = []\n",
    "            vmesni.append(nov[i][0])\n",
    "            vmesni.append(nov[i][1])\n",
    "            vmesni.append(utezi[j][i])\n",
    "            zadnji.append(tuple(vmesni))\n",
    "        konec.append(zadnji)\n",
    "        gr = DiGraph(zadnji)\n",
    "        seznam_grafov.append(gr)\n",
    "    #seznam_gra[0].show(edge_labels = True)\n",
    "    return(seznam_grafov, utezi)"
   ]
  },
  {
   "cell_type": "code",
   "execution_count": 6,
   "metadata": {
    "collapsed": false
   },
   "outputs": [
   ],
   "source": [
    "def min_grid_graf(st_opazanj, st_vozlisc, min_cena, max_cena):\n",
    "    st_pov_grafa = 2 * st_vozlisc^2 - 2 * st_vozlisc\n",
    "    utezi = seznam_cen(st_opazanj, st_pov_grafa, min_cena, max_cena)\n",
    "    graf_oblika = DiGraph(graphs.Grid2dGraph(st_vozlisc, st_vozlisc).edges())\n",
    "    return(graf_oblika, utezi)\n",
    "\n",
    "#[grafkec, utezi] = min_grid_graf(3, 3, 1, 100)"
   ]
  },
  {
   "cell_type": "code",
   "execution_count": 7,
   "metadata": {
    "collapsed": false
   },
   "outputs": [
   ],
   "source": [
    "def argmin(poti, av_pov, diagonala):\n",
    "    x_min = poti[0]\n",
    "    cena_pov = numpy.dot(av_pov, x_min)\n",
    "    cena_d = numpy.dot(diagonala, x_min)\n",
    "    cena = cena_pov + cena_d\n",
    "    #cena = numpy.dot(numpy.add(av_pov, diagonala), poti[0])\n",
    "    #if len(poti) == 1:\n",
    "    #    return(x_min, cena_pov, cena_d, cena)\n",
    "    #else:\n",
    "    for i in range(1, len(poti)):\n",
    "        x_nov = poti[i]\n",
    "        cena_pov_nov = numpy.dot(av_pov, x_nov)\n",
    "        cena_d_nov = numpy.dot(diagonala, x_nov)\n",
    "        cena_nov = cena_pov_nov + cena_d_nov\n",
    "        #cena_nov = numpy.dot(numpy.add(av_pov,diagonala), poti[i])\n",
    "        if cena_nov < cena:\n",
    "            x_min = x_nov\n",
    "            cena_pov = cena_pov_nov\n",
    "            cena_d = cena_d_nov\n",
    "            cena = cena_nov\n",
    "    return(x_min, cena_pov, cena_d, cena)"
   ]
  },
  {
   "cell_type": "code",
   "execution_count": 8,
   "metadata": {
    "collapsed": false
   },
   "outputs": [
   ],
   "source": [
    "def arglexmin(seznam_x, vektorji):\n",
    "    xmin = min(([numpy.dot(numpy.array(v), numpy.array(x)) for v in vektorji], x) for x in seznam_x)\n",
    "    return xmin"
   ]
  },
  {
   "cell_type": "code",
   "execution_count": 9,
   "metadata": {
    "collapsed": false
   },
   "outputs": [
   ],
   "source": [
    "def argmin_kor(poti, av_pov, diagonala):\n",
    "    x_rob = poti[0]\n",
    "    cena_av = numpy.dot(x_rob, av_pov)\n",
    "    cena_d = sqrt(numpy.dot(x_rob, diagonala))\n",
    "    cena = cena_av + cena_d\n",
    "    for i in range(1, len(poti)):\n",
    "        x_nov = poti[i]\n",
    "        cena_av_nov = numpy.dot(poti[i], av_pov)\n",
    "        cena_d_nov = sqrt(numpy.dot(poti[i], diagonala))\n",
    "        cena_nov = cena_av_nov + cena_d_nov\n",
    "        if cena_nov < cena:\n",
    "            x_rob = x_nov\n",
    "            cena = cena_nov\n",
    "    return(x_rob, cena)"
   ]
  },
  {
   "cell_type": "code",
   "execution_count": 22,
   "metadata": {
    "collapsed": false
   },
   "outputs": [
    {
     "name": "stdout",
     "output_type": "stream",
     "text": [
      "False\n"
     ]
    },
    {
     "name": "stderr",
     "output_type": "stream",
     "text": [
      "<ipython-input-2-1f0f1f17ca7f>:6: DeprecationWarning: This function is deprecated. Please call randint(1, 100 + 1) instead\n",
      "  mer_povezav.append(numpy.random.random_integers(min_cena, max_cena))\n"
     ]
    }
   ],
   "source": [
    "##[grafi, weights] = grid_graf(50, 9, 1, 100)\n",
    "[grafi, weights] = min_grid_graf(50 , 3, 1, 100)\n",
    "####g = grafi[0]\n",
    "####g.show(edge_labels = True)\n",
    "povprecje_w = [i * 1/len(weights) for i in [sum(x) for x in zip(*weights)]]\n",
    "####print(povprecje_w)\n",
    "####print(kov_matrika(weights))\n",
    "diagonalci = numpy.diag(kov_matrika(weights))\n",
    "####print(diagonalci)\n",
    "####xi = vektorcki_x(grafi[0], (0, 0), (8, 8))\n",
    "xi = vektorcki_x(grafi, (0, 0), (2, 2))\n",
    "####print(weights)\n",
    "####print(xi)\n",
    "###print(\"dolzina xi je\", len(xi))\n",
    "###\n",
    "xl = arglexmin(xi, [povprecje_w, diagonalci])\n",
    "xl_vekt = xl[1]\n",
    "####print(\"xl in njegove vr\", xl)\n",
    "###print(xl_vekt)\n",
    "xr = arglexmin(xi, [diagonalci, povprecje_w])\n",
    "xr_vekt = xr[1]\n",
    "####print(\"xr in njegove vr\", xr)\n",
    "###print(xr_vekt)\n",
    "print(xl_vekt == xr_vekt)\n",
    "#"
   ]
  },
  {
   "cell_type": "code",
   "execution_count": 11,
   "metadata": {
    "collapsed": false
   },
   "outputs": [
   ],
   "source": [
    "#d = numpy.diag(kov_matrika(weights))\n",
    "#average_c = [i * 1/len(weights) for i in [sum(x) for x in zip(*weights)]]\n",
    "#xl = arglexmin(xi, [average_c, d])\n",
    "#xr = arglexmin(xi, [d, average_c])\n",
    "#xl_vekt = xl[1]\n",
    "#xr_vekt = xr[1]\n",
    "#prva_tocka = xl[0]\n",
    "#tretja_tocka = [xr[0][1], xr[0][0]]\n",
    "#druga_tocka = [prva_tocka[0], tretja_tocka[1]]\n",
    "#[x_rob, OBJ] = argmin_kor([xl_vekt, xr_vekt], povprecje_w, diagonalci)\n",
    "##print(OBJ)\n",
    "##najprej naredimo prvi interval ter vmesno točko m\n",
    "#a = prva_tocka[0]\n",
    "#b = OBJ - sqrt(tretja_tocka[1])\n",
    "#P = numpy.dot(povprecje_w, x_rob)\n",
    "#D = sqrt(numpy.dot(diagonalci, x_rob))\n",
    "#\n",
    "#xevje = []\n",
    "#def intervali(rob1, rob2, OBJ, x, P, D, xi, average_c, d):\n",
    "#    m = (rob1 + rob2) / 2\n",
    "#    alfa_m = 2 * (m -OBJ) / (2 * (m - OBJ) - 1)\n",
    "#    [x_new, pov_x_new, diag_x_new, cena_x_new] = argmin(xi, numpy.dot(average_c, alfa_m), numpy.dot((1-alfa_m), d))\n",
    "#    if 2 * (m - OBJ) * P - 2 * (m - OBJ) * pov_x_new + diag_x_new <= D:\n",
    "#        print(\"x_new boljši.\")\n",
    "#        x = x_new\n",
    "#        OBJ = pov_x_new + sqrt(diag_x_new)\n",
    "#        #OBJ = pov_x_new + diag_x_new\n",
    "#        P = pov_x_new\n",
    "#        D = sqrt(diag_x_new)\n",
    "#        #D = diag_x_new\n",
    "#        naklon = 2 * (m - OBJ)\n",
    "#        zac_vr = (OBJ - m)^2 - naklon * m\n",
    "#        var('z')\n",
    "#        sol = solve(0 == z^2 -(2*OBJ + naklon)*z +(OBJ^2-zac_vr), z)\n",
    "#        nsol = [N(s.rhs()) for s in sol]\n",
    "#        if nsol[0].is_real() == False or nsol[1].is_real == False:\n",
    "#            print(\"Imaginarna rešitev.\")\n",
    "#        #    return(xevje)\n",
    "#        print(sol[0])\n",
    "#        print(sol[1])\n",
    "#        #print(rob1)\n",
    "#        if nsol[0] - rob1 > 0.001:\n",
    "#            print(\"Prvi interval dovolj velik. Nova rekurzija.\")\n",
    "#            intervali(rob1, nsol[0], OBJ, x, P, D, xi, average_c, d)\n",
    "#        else:\n",
    "#            print(\"Prvi interval minimalen. Dodamo x.\")\n",
    "#            xevje.append(x)\n",
    "#        if rob2 - nsol[1] > 0.001:\n",
    "#            print(\"Drugi interval dovolj velik. Nova rekurzija.\")\n",
    "#            intervali(nsol[1], rob2, OBJ, x, P, D, xi, average_c, d)\n",
    "#        else:\n",
    "#            print(\"Drugi interval minimalen. Dodamo x.\")\n",
    "#            xevje.append(x)\n",
    "#    else:\n",
    "#        print(\"NI boljsega x_new.\")\n",
    "#        var('z')\n",
    "#        sol = solve(0 == z^2 -(2*OBJ + naklon)*z +(OBJ^2-zac_vr), z)\n",
    "#        nsol = [N(s.rhs()) for s in sol]\n",
    "#        if nsol[0].is_real() == False or nsol[1].is_real == False:\n",
    "#            print(\"Imaginarna rešitev.\")\n",
    "#        #    return(xevje)\n",
    "#        if nsol[0] - rob1 > 0.001:\n",
    "#            intervali(rob1, nsol[0], OBJ, x, P, D, xi, average_c, d)\n",
    "#        else:\n",
    "#            xevje.append(x)\n",
    "#        if rob2 - nsol[1] > 0.001:\n",
    "#            intervali(nsol[1], rob2, OBJ, x, P, D, xi, average_c, d)\n",
    "#        else:\n",
    "#            xevje.append(x)\n",
    "#    return(xevje)\n",
    "\n"
   ]
  },
  {
   "cell_type": "code",
   "execution_count": 12,
   "metadata": {
    "collapsed": false
   },
   "outputs": [
   ],
   "source": [
    "#intervali(a, b, OBJ, x_rob, P, D, xi, povprecje_w, diagonalci)"
   ]
  },
  {
   "cell_type": "code",
   "execution_count": 23,
   "metadata": {
    "collapsed": false
   },
   "outputs": [
   ],
   "source": [
    "#improved bolša praksa\n",
    "prva_tocka = xl[0]\n",
    "tretja_tocka = [xr[0][1], xr[0][0]]\n",
    "druga_tocka = [prva_tocka[0], tretja_tocka[1]]\n",
    "[x_rob, OBJ] = argmin_kor([xl_vekt, xr_vekt], povprecje_w, diagonalci)\n",
    "\n",
    "#najprej naredimo prvi interval ter vmesno točko m\n",
    "a = prva_tocka[0]\n",
    "b = OBJ - sqrt(tretja_tocka[1])\n",
    "P = numpy.dot(povprecje_w, x_rob)\n",
    "D = sqrt(numpy.dot(diagonalci, x_rob))\n",
    "\n",
    "def intervali1(rob1, rob2, OBJ, x, P, D, xi, average_c, d, xevje, k):\n",
    "    #xevje=[]\n",
    "    m = (rob1 + rob2) / 2\n",
    "    alfa_m = 2 * (m -OBJ) / (2 * (m - OBJ) - 1)\n",
    "    if alfa_m >= 1:\n",
    "        return(xevje, k)\n",
    "    [x_new, pov_x_new, diag_x_new, cena_x_new] = argmin(xi, numpy.dot(average_c, alfa_m), numpy.dot((1-alfa_m), d))\n",
    "    if 2 * (m - OBJ) * P - 2 * (m - OBJ) * pov_x_new + diag_x_new <= D:\n",
    "        #print(\"x_new boljši. Dodamo x.\")\n",
    "        x = x_new\n",
    "        xevje.append(x)\n",
    "        #OBJ = pov_x_new + sqrt(diag_x_new)\n",
    "        #OBJ = pov_x_new + diag_x_new\n",
    "        P = pov_x_new\n",
    "        #print(\"m =\", m)\n",
    "        #print(\"OBJ =\", OBJ)\n",
    "        #print(\"alfa_m =\", alfa_m)\n",
    "        #print(\"diag=\", diag_x_new)\n",
    "        D = sqrt(diag_x_new)\n",
    "        #D = diag_x_new\n",
    "        OBJ = P + D\n",
    "        naklon = 2 * (m - OBJ)\n",
    "        zac_vr = (OBJ - m)^2 - naklon * m\n",
    "        var('z')\n",
    "        sol = solve(0 == z^2 - (2 * OBJ + naklon) * z +(OBJ^2 - zac_vr), z)\n",
    "        nsol = [N(s.rhs()) for s in sol]\n",
    "        #nj = nsol[0]\n",
    "        if nsol[0].is_real() == True and nsol[0] - rob1 > 0.01:\n",
    "            #print(\"Prvi interval dovolj velik. Nova rekurzija.\")\n",
    "            k +=1\n",
    "            intervali1(rob1, nsol[0], OBJ, x, P, D, xi, average_c, d, xevje, k)\n",
    "        else:\n",
    "            print(\"Prvi interval minimalen ali ni preseka(kompleksno).\")\n",
    "        if nsol[1].is_real() == True and rob2 - nsol[1] > 0.01:\n",
    "            #print(\"Drugi interval dovolj velik. Nova rekurzija.\")\n",
    "            k += 1\n",
    "            intervali1(nsol[1], rob2, OBJ, x, P, D, xi, average_c, d, xevje , k)\n",
    "        else:\n",
    "            print(\"Drugi interval minimalen ali ni preseka(kompleksno).\")\n",
    "    else:\n",
    "        print(\"NI boljsega x_new.\")\n",
    "        naklon = 2 * (m - OBJ)\n",
    "        zac_vr = (OBJ - m)^2 - naklon * m\n",
    "        var('z')\n",
    "        sol = solve(0 == z^2 - (2 * OBJ + naklon) * z +(OBJ^2 - zac_vr), z)\n",
    "        nsol = [N(s.rhs()) for s in sol]\n",
    "        if nsol[0].is_real() == True and nsol[0] - rob1 > 0.01:\n",
    "            print(\"Ni izboljsanja, a vseeno iscemo naprej, 1. interval. Nova rekurzija.\")\n",
    "            k += 1\n",
    "            intervali1(rob1, nsol[0], OBJ, x, P, D, xi, average_c, d, xevje, k)\n",
    "        else:\n",
    "            print(\"Konec1.\")\n",
    "            #xevje.append(x)\n",
    "        if nsol[1].is_real() == True and rob2 - nsol[1] > 0.01:\n",
    "            print(\"Ni izboljšanja, a vseeno isčemo naprej, 2. interval. Nova rekurzija\")\n",
    "            k += 1\n",
    "            intervali1(nsol[1], rob2, OBJ, x, P, D, xi, average_c, d, xevje, k)\n",
    "        else:\n",
    "            print(\"Konec2.\")\n",
    "            #xevje.append(x)\n",
    "    return(xevje, k)\n",
    "\n",
    "#intervali1(a, b, OBJ, x_rob, P, D, xi, povprecje_w, diagonalci, [])"
   ]
  },
  {
   "cell_type": "code",
   "execution_count": 0,
   "metadata": {
    "collapsed": false
   },
   "outputs": [
   ],
   "source": [
   ]
  },
  {
   "cell_type": "code",
   "execution_count": 21,
   "metadata": {
    "collapsed": false,
    "scrolled": true
   },
   "outputs": [
    {
     "name": "stdout",
     "output_type": "stream",
     "text": [
      "Prvi interval minimalen ali ni preseka(kompleksno).\n",
      "Drugi interval minimalen ali ni preseka(kompleksno).\n"
     ]
    },
    {
     "data": {
      "text/plain": [
       "([[1, 0, 0, 1, 0, 0, 0, 1, 0, 1, 0, 0]], 1)"
      ]
     },
     "execution_count": 21,
     "metadata": {
     },
     "output_type": "execute_result"
    }
   ],
   "source": [
    "#intervali1(rob1, rob2, OBJ, x, P, D, xi, average_c, d, xevje, k):\n",
    "intervali1(a, b, OBJ, x_rob, P, D, xi, povprecje_w, diagonalci, [], 1)\n"
   ]
  },
  {
   "cell_type": "code",
   "execution_count": 15,
   "metadata": {
    "collapsed": false
   },
   "outputs": [
    {
     "name": "stdout",
     "output_type": "stream",
     "text": [
      "TIP GRAFA  3\n",
      "False\n",
      "NI boljsega x_new.\n",
      "Konec1.\n",
      "Konec2.\n",
      "NI boljsega x_new.\n",
      "Konec1.\n",
      "Konec2.\n",
      "NAREJEN GRAF\n",
      "Cas za en graf je 0.038565635681152344\n",
      "False\n",
      "Prvi interval minimalen ali ni preseka(kompleksno).\n",
      "Drugi interval minimalen ali ni preseka(kompleksno).\n",
      "NAREJEN GRAF\n",
      "Cas za en graf je 0.020235538482666016\n",
      "False\n",
      "NI boljsega x_new.\n",
      "Ni izboljsanja, a vseeno iscemo naprej, 1. interval. Nova rekurzija.\n",
      "NI boljsega x_new.\n",
      "Konec1.\n",
      "Konec2.\n"
     ]
    },
    {
     "name": "stderr",
     "output_type": "stream",
     "text": [
      "<ipython-input-2-1f0f1f17ca7f>:6: DeprecationWarning: This function is deprecated. Please call randint(1, 100 + 1) instead\n",
      "  mer_povezav.append(numpy.random.random_integers(min_cena, max_cena))\n"
     ]
    },
    {
     "ename": "IndexError",
     "evalue": "list index out of range",
     "output_type": "error",
     "traceback": [
      "\u001b[0;31m---------------------------------------------------------------------------\u001b[0m",
      "\u001b[0;31mIndexError\u001b[0m                                Traceback (most recent call last)",
      "\u001b[0;32m<ipython-input-15-b5c594924c61>\u001b[0m in \u001b[0;36m<module>\u001b[0;34m\u001b[0m\n\u001b[1;32m     41\u001b[0m         \u001b[0mD\u001b[0m \u001b[0;34m=\u001b[0m \u001b[0msqrt\u001b[0m\u001b[0;34m(\u001b[0m\u001b[0mnumpy\u001b[0m\u001b[0;34m.\u001b[0m\u001b[0mdot\u001b[0m\u001b[0;34m(\u001b[0m\u001b[0mdiagonalci\u001b[0m\u001b[0;34m,\u001b[0m \u001b[0mx_rob\u001b[0m\u001b[0;34m)\u001b[0m\u001b[0;34m)\u001b[0m\u001b[0;34m\u001b[0m\u001b[0;34m\u001b[0m\u001b[0m\n\u001b[1;32m     42\u001b[0m         \u001b[0mstart_time\u001b[0m \u001b[0;34m=\u001b[0m \u001b[0mtime\u001b[0m\u001b[0;34m.\u001b[0m\u001b[0mtime\u001b[0m\u001b[0;34m(\u001b[0m\u001b[0;34m)\u001b[0m\u001b[0;34m\u001b[0m\u001b[0;34m\u001b[0m\u001b[0m\n\u001b[0;32m---> 43\u001b[0;31m         \u001b[0mintervali1\u001b[0m\u001b[0;34m(\u001b[0m\u001b[0ma\u001b[0m\u001b[0;34m,\u001b[0m \u001b[0mb\u001b[0m\u001b[0;34m,\u001b[0m \u001b[0mOBJ\u001b[0m\u001b[0;34m,\u001b[0m \u001b[0mx_rob\u001b[0m\u001b[0;34m,\u001b[0m \u001b[0mP\u001b[0m\u001b[0;34m,\u001b[0m \u001b[0mD\u001b[0m\u001b[0;34m,\u001b[0m \u001b[0mxi\u001b[0m\u001b[0;34m,\u001b[0m \u001b[0mpovprecje_w\u001b[0m\u001b[0;34m,\u001b[0m \u001b[0mdiagonalci\u001b[0m\u001b[0;34m,\u001b[0m \u001b[0;34m[\u001b[0m\u001b[0;34m]\u001b[0m\u001b[0;34m,\u001b[0m \u001b[0mInteger\u001b[0m\u001b[0;34m(\u001b[0m\u001b[0;36m1\u001b[0m\u001b[0;34m)\u001b[0m\u001b[0;34m)\u001b[0m\u001b[0;34m\u001b[0m\u001b[0;34m\u001b[0m\u001b[0m\n\u001b[0m\u001b[1;32m     44\u001b[0m         \u001b[0mceloten_cas\u001b[0m \u001b[0;34m=\u001b[0m \u001b[0;34m(\u001b[0m\u001b[0mtime\u001b[0m\u001b[0;34m.\u001b[0m\u001b[0mtime\u001b[0m\u001b[0;34m(\u001b[0m\u001b[0;34m)\u001b[0m \u001b[0;34m-\u001b[0m \u001b[0mstart_time\u001b[0m\u001b[0;34m)\u001b[0m\u001b[0;34m\u001b[0m\u001b[0;34m\u001b[0m\u001b[0m\n\u001b[1;32m     45\u001b[0m         \u001b[0mprint\u001b[0m\u001b[0;34m(\u001b[0m\u001b[0;34m\"NAREJEN GRAF\"\u001b[0m\u001b[0;34m)\u001b[0m\u001b[0;34m\u001b[0m\u001b[0;34m\u001b[0m\u001b[0m\n",
      "\u001b[0;32m<ipython-input-13-605c331bf7cd>\u001b[0m in \u001b[0;36mintervali1\u001b[0;34m(rob1, rob2, OBJ, x, P, D, xi, average_c, d, xevje, k)\u001b[0m\n\u001b[1;32m     41\u001b[0m             \u001b[0;31m#print(\"Prvi interval dovolj velik. Nova rekurzija.\")\u001b[0m\u001b[0;34m\u001b[0m\u001b[0;34m\u001b[0m\u001b[0;34m\u001b[0m\u001b[0m\n\u001b[1;32m     42\u001b[0m             \u001b[0mk\u001b[0m \u001b[0;34m+=\u001b[0m\u001b[0mInteger\u001b[0m\u001b[0;34m(\u001b[0m\u001b[0;36m1\u001b[0m\u001b[0;34m)\u001b[0m\u001b[0;34m\u001b[0m\u001b[0;34m\u001b[0m\u001b[0m\n\u001b[0;32m---> 43\u001b[0;31m             \u001b[0mintervali1\u001b[0m\u001b[0;34m(\u001b[0m\u001b[0mrob1\u001b[0m\u001b[0;34m,\u001b[0m \u001b[0mnsol\u001b[0m\u001b[0;34m[\u001b[0m\u001b[0mInteger\u001b[0m\u001b[0;34m(\u001b[0m\u001b[0;36m0\u001b[0m\u001b[0;34m)\u001b[0m\u001b[0;34m]\u001b[0m\u001b[0;34m,\u001b[0m \u001b[0mOBJ\u001b[0m\u001b[0;34m,\u001b[0m \u001b[0mx\u001b[0m\u001b[0;34m,\u001b[0m \u001b[0mP\u001b[0m\u001b[0;34m,\u001b[0m \u001b[0mD\u001b[0m\u001b[0;34m,\u001b[0m \u001b[0mxi\u001b[0m\u001b[0;34m,\u001b[0m \u001b[0maverage_c\u001b[0m\u001b[0;34m,\u001b[0m \u001b[0md\u001b[0m\u001b[0;34m,\u001b[0m \u001b[0mxevje\u001b[0m\u001b[0;34m,\u001b[0m \u001b[0mk\u001b[0m\u001b[0;34m)\u001b[0m\u001b[0;34m\u001b[0m\u001b[0;34m\u001b[0m\u001b[0m\n\u001b[0m\u001b[1;32m     44\u001b[0m         \u001b[0;32melse\u001b[0m\u001b[0;34m:\u001b[0m\u001b[0;34m\u001b[0m\u001b[0;34m\u001b[0m\u001b[0m\n\u001b[1;32m     45\u001b[0m             \u001b[0mprint\u001b[0m\u001b[0;34m(\u001b[0m\u001b[0;34m\"Prvi interval minimalen ali ni preseka(kompleksno).\"\u001b[0m\u001b[0;34m)\u001b[0m\u001b[0;34m\u001b[0m\u001b[0;34m\u001b[0m\u001b[0m\n",
      "\u001b[0;32m<ipython-input-13-605c331bf7cd>\u001b[0m in \u001b[0;36mintervali1\u001b[0;34m(rob1, rob2, OBJ, x, P, D, xi, average_c, d, xevje, k)\u001b[0m\n\u001b[1;32m     64\u001b[0m             \u001b[0mprint\u001b[0m\u001b[0;34m(\u001b[0m\u001b[0;34m\"Konec1.\"\u001b[0m\u001b[0;34m)\u001b[0m\u001b[0;34m\u001b[0m\u001b[0;34m\u001b[0m\u001b[0m\n\u001b[1;32m     65\u001b[0m             \u001b[0;31m#xevje.append(x)\u001b[0m\u001b[0;34m\u001b[0m\u001b[0;34m\u001b[0m\u001b[0;34m\u001b[0m\u001b[0m\n\u001b[0;32m---> 66\u001b[0;31m         \u001b[0;32mif\u001b[0m \u001b[0mnsol\u001b[0m\u001b[0;34m[\u001b[0m\u001b[0mInteger\u001b[0m\u001b[0;34m(\u001b[0m\u001b[0;36m1\u001b[0m\u001b[0;34m)\u001b[0m\u001b[0;34m]\u001b[0m\u001b[0;34m.\u001b[0m\u001b[0mis_real\u001b[0m\u001b[0;34m(\u001b[0m\u001b[0;34m)\u001b[0m \u001b[0;34m==\u001b[0m \u001b[0;32mTrue\u001b[0m \u001b[0;32mand\u001b[0m \u001b[0mrob2\u001b[0m \u001b[0;34m-\u001b[0m \u001b[0mnsol\u001b[0m\u001b[0;34m[\u001b[0m\u001b[0mInteger\u001b[0m\u001b[0;34m(\u001b[0m\u001b[0;36m1\u001b[0m\u001b[0;34m)\u001b[0m\u001b[0;34m]\u001b[0m \u001b[0;34m>\u001b[0m \u001b[0mRealNumber\u001b[0m\u001b[0;34m(\u001b[0m\u001b[0;34m'0.01'\u001b[0m\u001b[0;34m)\u001b[0m\u001b[0;34m:\u001b[0m\u001b[0;34m\u001b[0m\u001b[0;34m\u001b[0m\u001b[0m\n\u001b[0m\u001b[1;32m     67\u001b[0m             \u001b[0mprint\u001b[0m\u001b[0;34m(\u001b[0m\u001b[0;34m\"Ni izboljšanja, a vseeno isčemo naprej, 2. interval. Nova rekurzija\"\u001b[0m\u001b[0;34m)\u001b[0m\u001b[0;34m\u001b[0m\u001b[0;34m\u001b[0m\u001b[0m\n\u001b[1;32m     68\u001b[0m             \u001b[0mk\u001b[0m \u001b[0;34m+=\u001b[0m \u001b[0mInteger\u001b[0m\u001b[0;34m(\u001b[0m\u001b[0;36m1\u001b[0m\u001b[0;34m)\u001b[0m\u001b[0;34m\u001b[0m\u001b[0;34m\u001b[0m\u001b[0m\n",
      "\u001b[0;31mIndexError\u001b[0m: list index out of range"
     ]
    }
   ],
   "source": [
    "import time\n",
    "import json\n",
    "\n",
    "tipi_grafov = [3,4,5,6,7,8]\n",
    "#rezultati = []\n",
    "casi = []\n",
    "#casi = []\n",
    "##stetja = []\n",
    "for i in range(0, len(tipi_grafov)):\n",
    "    print(\"TIP GRAFA \", tipi_grafov[i])\n",
    "    #rezultati_tipa_grafov = []\n",
    "    vmesni_casi = []\n",
    "    #vmesna_stetja = []\n",
    "    for j in range(0, 3):\n",
    "        [grafi, weights] = min_grid_graf(50 , tipi_grafov[i], 1, 100)\n",
    "        diagonalci = numpy.diag(kov_matrika(weights))\n",
    "        povprecje_w = [i * 1/len(weights) for i in [sum(x) for x in zip(*weights)]]\n",
    "        xi = vektorcki_x(grafi, (0, 0), (tipi_grafov[i] - 1, tipi_grafov[i] - 1 ))\n",
    "        xl = arglexmin(xi, [povprecje_w, diagonalci])\n",
    "        xr = arglexmin(xi, [diagonalci, povprecje_w])\n",
    "        xl_vekt = xl[1]\n",
    "        xr_vekt = xr[1]\n",
    "        print(xl_vekt == xr_vekt)\n",
    "        #while xl_vekt == xr_vekt:\n",
    "        #    [grafi, weights] = min_grid_graf(50 , tipi_grafov[i], 1, 100)\n",
    "        #    diagonalci = numpy.diag(kov_matrika(weights))\n",
    "        #    povprecje_w = [i * 1/len(weights) for i in [sum(x) for x in zip(*weights)]]\n",
    "        #    xi = vektorcki_x(grafi, (0, 0), (tipi_grafov[i] - 1, tipi_grafov[i] - 1 ))\n",
    "        #    xl = arglexmin(xi, [povprecje_w, diagonalci])\n",
    "        #    xr = arglexmin(xi, [diagonalci, povprecje_w])\n",
    "        #    xl_vekt = xl[1]\n",
    "        #    xr_vekt = xr[1]\n",
    "        prva_tocka = xl[0]\n",
    "        tretja_tocka = [xr[0][1], xr[0][0]]\n",
    "        #druga_tocka = [prva_tocka[0], tretja_tocka[1]]\n",
    "        [x_rob, OBJ] = argmin_kor([xl_vekt, xr_vekt], povprecje_w, diagonalci)\n",
    "        #najprej naredimo prvi interval ter vmesno točko m\n",
    "        a = prva_tocka[0]\n",
    "        b = OBJ - sqrt(tretja_tocka[1])\n",
    "        P = numpy.dot(povprecje_w, x_rob)\n",
    "        D = sqrt(numpy.dot(diagonalci, x_rob))\n",
    "        start_time = time.time()\n",
    "        intervali1(a, b, OBJ, x_rob, P, D, xi, povprecje_w, diagonalci, [], 1)\n",
    "        celoten_cas = (time.time() - start_time)\n",
    "        print(\"NAREJEN GRAF\")\n",
    "        print(\"Cas za en graf je\", celoten_cas)\n",
    "        #print(\"Stetje za en graf je\", k)\n",
    "        vmesni_casi.append(celoten_cas)\n",
    "        #vmesna_stetja.append(k)\n",
    "    #rezultati_tipa_grafov.append(mean(vmesni_casi))\n",
    "    print(\"Povprecje vmesnih casov je\", mean(vmesni_casi))\n",
    "    casi.append(mean(vmesni_casi))\n",
    "    #rezultati_tipa_grafov.append(mean(vmesna_stetja))\n",
    "    print(\"Povprecje vmesnih stetji je\", mean(vmesna_stetja))\n",
    "    #stetja.append(mean(vmesna_stetja))\n",
    "    #rezultati.append(rezultati_tipa_grafov)\n",
    "    print(\"USTVARJENI PODATKI ZA TIP\")\n",
    "    \n",
    "with open(\"results_improved_povprecja2.json\", 'w') as f:\n",
    "    #with open('naivni.json', 'w') as f:\n",
    "    f.write(str(casi))\n",
    "    ##f.write(str(stetja))"
   ]
  },
  {
   "cell_type": "code",
   "execution_count": 39,
   "metadata": {
    "collapsed": false
   },
   "outputs": [
    {
     "name": "stderr",
     "output_type": "stream",
     "text": [
      "<ipython-input-2-1f0f1f17ca7f>:6: DeprecationWarning: This function is deprecated. Please call randint(1, 100 + 1) instead\n",
      "  mer_povezav.append(numpy.random.random_integers(min_cena, max_cena))\n"
     ]
    },
    {
     "name": "stdout",
     "output_type": "stream",
     "text": [
      "x_new boljši. Dodamo x.\n",
      "m = 379.80927176750106\n",
      "OBJ = 457.9191844911588\n",
      "alfa_m = 0.9936394790087393\n",
      "diag= 40.158815734824266\n",
      "Prvi interval dovolj velik. Nova rekurzija.\n",
      "NI boljsega x_new.\n",
      "Konec1.\n",
      "Konec2.\n",
      "Drugi interval dovolj velik. Nova rekurzija.\n",
      "NI boljsega x_new.\n",
      "Ni izboljsanja, a vseeno iscemo naprej, 1. interval. Nova rekurzija.\n",
      "NI boljsega x_new.\n",
      "Konec1.\n",
      "Konec2.\n",
      "Ni izboljšanja, a vseeno isčemo naprej, 2. interval. Nova rekurzija\n",
      "NI boljsega x_new.\n",
      "Konec1.\n",
      "Konec2.\n"
     ]
    },
    {
     "data": {
      "text/plain": [
       "([[1,\n",
       "   0,\n",
       "   1,\n",
       "   0,\n",
       "   1,\n",
       "   0,\n",
       "   0,\n",
       "   1,\n",
       "   0,\n",
       "   0,\n",
       "   0,\n",
       "   0,\n",
       "   0,\n",
       "   0,\n",
       "   0,\n",
       "   0,\n",
       "   1,\n",
       "   0,\n",
       "   0,\n",
       "   0,\n",
       "   0,\n",
       "   0,\n",
       "   0,\n",
       "   0,\n",
       "   0,\n",
       "   1,\n",
       "   0,\n",
       "   0,\n",
       "   0,\n",
       "   0,\n",
       "   0,\n",
       "   0,\n",
       "   0,\n",
       "   0,\n",
       "   1,\n",
       "   0,\n",
       "   0,\n",
       "   0,\n",
       "   0,\n",
       "   1]],\n",
       " 2)"
      ]
     },
     "execution_count": 39,
     "metadata": {
     },
     "output_type": "execute_result"
    }
   ],
   "source": [
    "# NA NOVO\n",
    "\n",
    "[grafi, weights] = min_grid_graf(50 , 5, 1, 100)\n",
    "povprecje_w = [i * 1/len(weights) for i in [sum(x) for x in zip(*weights)]]\n",
    "diagonalci = numpy.diag(kov_matrika(weights))\n",
    "xi = vektorcki_x(grafi, (0, 0), (4, 4))\n",
    "\n",
    "\n",
    "xl = arglexmin(xi, [povprecje_w, diagonalci])\n",
    "xl_vekt = xl[1]\n",
    "xr = arglexmin(xi, [diagonalci, povprecje_w])\n",
    "xr_vekt = xr[1]\n",
    "\n",
    "\n",
    "#improved bolša praksa\n",
    "prva_tocka = xl[0]\n",
    "tretja_tocka = [xr[0][1], xr[0][0]]\n",
    "druga_tocka = [prva_tocka[0], tretja_tocka[1]]\n",
    "[x_rob, OBJ] = argmin_kor([xl_vekt, xr_vekt], povprecje_w, diagonalci)\n",
    "\n",
    "#najprej naredimo prvi interval ter vmesno točko m\n",
    "a = prva_tocka[0]\n",
    "b = OBJ - sqrt(tretja_tocka[1])\n",
    "P = numpy.dot(povprecje_w, x_rob)\n",
    "D = sqrt(numpy.dot(diagonalci, x_rob))\n",
    "\n",
    "#k = [0]\n",
    "def intervali1(rob1, rob2, OBJ, x, P, D, xi, average_c, d, xevje,k):\n",
    "    #k = [0]\n",
    "    #xevje=[]\n",
    "    m = (rob1 + rob2) / 2\n",
    "    alfa_m = 2 * (m -OBJ) / (2 * (m - OBJ) - 1)\n",
    "    if alfa_m >= 1:\n",
    "        return(xevje)\n",
    "    [x_new, pov_x_new, diag_x_new, cena_x_new] = argmin(xi, numpy.dot(average_c, alfa_m), numpy.dot((1-alfa_m), d))\n",
    "    if 2 * (m - OBJ) * P - 2 * (m - OBJ) * pov_x_new + diag_x_new <= D:\n",
    "        print(\"x_new boljši. Dodamo x.\")\n",
    "        x = x_new\n",
    "        xevje.append(x)\n",
    "        #OBJ = pov_x_new + sqrt(diag_x_new)\n",
    "        #OBJ = pov_x_new + diag_x_new\n",
    "        P = pov_x_new\n",
    "        print(\"m =\", m)\n",
    "        print(\"OBJ =\", OBJ)\n",
    "        print(\"alfa_m =\", alfa_m)\n",
    "        print(\"diag=\", diag_x_new)\n",
    "        D = sqrt(diag_x_new)\n",
    "        #D = diag_x_new\n",
    "        OBJ = P + D\n",
    "        naklon = 2 * (m - OBJ)\n",
    "        zac_vr = (OBJ - m)^2 - naklon * m\n",
    "        var('z')\n",
    "        sol = solve(0 == z^2 - (2 * OBJ + naklon) * z +(OBJ^2 - zac_vr), z)\n",
    "        nsol = [N(s.rhs()) for s in sol]\n",
    "        #nj = nsol[0]\n",
    "        if nsol[0].is_real() == True and nsol[0] - rob1 > 0.00001:\n",
    "            print(\"Prvi interval dovolj velik. Nova rekurzija.\")\n",
    "            k+=1\n",
    "            intervali1(rob1, nsol[0], OBJ, x, P, D, xi, average_c, d, xevje, k)\n",
    "        else:\n",
    "            print(\"Prvi interval minimalen ali ni preseka(kompleksno).\")\n",
    "        if nsol[1].is_real() == True and rob2 - nsol[1] > 0.00001:\n",
    "            print(\"Drugi interval dovolj velik. Nova rekurzija.\")\n",
    "            k += 1\n",
    "            intervali1(nsol[1], rob2, OBJ, x, P, D, xi, average_c, d, xevje, k)\n",
    "        else:\n",
    "            print(\"Drugi interval minimalen ali ni preseka(kompleksno).\")\n",
    "    else:\n",
    "        print(\"NI boljsega x_new.\")\n",
    "        naklon = 2 * (m - OBJ)\n",
    "        zac_vr = (OBJ - m)^2 - naklon * m\n",
    "        var('z')\n",
    "        sol = solve(0 == z^2 - (2 * OBJ + naklon) * z +(OBJ^2 - zac_vr), z)\n",
    "        nsol = [N(s.rhs()) for s in sol]\n",
    "        if nsol[0].is_real() == True and nsol[0] - rob1 > 0.00001:\n",
    "            print(\"Ni izboljsanja, a vseeno iscemo naprej, 1. interval. Nova rekurzija.\")\n",
    "            k+=1\n",
    "            intervali1(rob1, nsol[0], OBJ, x, P, D, xi, average_c, d, xevje, k)\n",
    "        else:\n",
    "            print(\"Konec1.\")\n",
    "            #xevje.append(x)\n",
    "        if nsol[1].is_real() == True and rob2 - nsol[1] > 0.00001:\n",
    "            print(\"Ni izboljšanja, a vseeno isčemo naprej, 2. interval. Nova rekurzija\")\n",
    "            k+=1\n",
    "            intervali1(nsol[1], rob2, OBJ, x, P, D, xi, average_c, d, xevje, k)\n",
    "        else:\n",
    "            print(\"Konec2.\")\n",
    "            #xevje.append(x)\n",
    "    return(xevje, k)\n",
    "\n",
    "intervali1(a, b, OBJ, x_rob, P, D, xi, povprecje_w, diagonalci, [],0)\n",
    "\n",
    "\n"
   ]
  },
  {
   "cell_type": "code",
   "execution_count": 27,
   "metadata": {
    "collapsed": false
   },
   "outputs": [
    {
     "name": "stdout",
     "output_type": "stream",
     "text": [
      "TIP GRAFA  3\n"
     ]
    },
    {
     "name": "stderr",
     "output_type": "stream",
     "text": [
      "<ipython-input-2-1f0f1f17ca7f>:6: DeprecationWarning: This function is deprecated. Please call randint(1, 100 + 1) instead\n",
      "  mer_povezav.append(numpy.random.random_integers(min_cena, max_cena))\n"
     ]
    },
    {
     "ename": "NameError",
     "evalue": "name 'razisci1' is not defined",
     "output_type": "error",
     "traceback": [
      "\u001b[0;31m---------------------------------------------------------------------------\u001b[0m",
      "\u001b[0;31mNameError\u001b[0m                                 Traceback (most recent call last)",
      "\u001b[0;32m<ipython-input-27-04c285fd25e0>\u001b[0m in \u001b[0;36m<module>\u001b[0;34m\u001b[0m\n\u001b[1;32m     19\u001b[0m         \u001b[0mk\u001b[0m \u001b[0;34m=\u001b[0m \u001b[0;34m[\u001b[0m\u001b[0mInteger\u001b[0m\u001b[0;34m(\u001b[0m\u001b[0;36m0\u001b[0m\u001b[0;34m)\u001b[0m\u001b[0;34m]\u001b[0m\u001b[0;34m\u001b[0m\u001b[0;34m\u001b[0m\u001b[0m\n\u001b[1;32m     20\u001b[0m         \u001b[0mstart_time\u001b[0m \u001b[0;34m=\u001b[0m \u001b[0mtime\u001b[0m\u001b[0;34m.\u001b[0m\u001b[0mtime\u001b[0m\u001b[0;34m(\u001b[0m\u001b[0;34m)\u001b[0m\u001b[0;34m\u001b[0m\u001b[0;34m\u001b[0m\u001b[0m\n\u001b[0;32m---> 21\u001b[0;31m         \u001b[0mrazisci1\u001b[0m\u001b[0;34m(\u001b[0m\u001b[0mxln\u001b[0m\u001b[0;34m,\u001b[0m \u001b[0mxrn\u001b[0m\u001b[0;34m,\u001b[0m \u001b[0mpovprecje_w\u001b[0m\u001b[0;34m,\u001b[0m \u001b[0mdiagonalci\u001b[0m\u001b[0;34m,\u001b[0m \u001b[0mxi\u001b[0m\u001b[0;34m,\u001b[0m \u001b[0;34m[\u001b[0m\u001b[0;34m]\u001b[0m\u001b[0;34m)\u001b[0m\u001b[0;34m\u001b[0m\u001b[0;34m\u001b[0m\u001b[0m\n\u001b[0m\u001b[1;32m     22\u001b[0m         \u001b[0mceloten_cas\u001b[0m \u001b[0;34m=\u001b[0m \u001b[0;34m(\u001b[0m\u001b[0mtime\u001b[0m\u001b[0;34m.\u001b[0m\u001b[0mtime\u001b[0m\u001b[0;34m(\u001b[0m\u001b[0;34m)\u001b[0m \u001b[0;34m-\u001b[0m \u001b[0mstart_time\u001b[0m\u001b[0;34m)\u001b[0m\u001b[0;34m\u001b[0m\u001b[0;34m\u001b[0m\u001b[0m\n\u001b[1;32m     23\u001b[0m         \u001b[0mprint\u001b[0m\u001b[0;34m(\u001b[0m\u001b[0;34m\"NAREJEN GRAF\"\u001b[0m\u001b[0;34m)\u001b[0m\u001b[0;34m\u001b[0m\u001b[0;34m\u001b[0m\u001b[0m\n",
      "\u001b[0;31mNameError\u001b[0m: name 'razisci1' is not defined"
     ]
    }
   ],
   "source": [
    "import json\n",
    "\n",
    "tipi_grafov = [3, 4, 5, 6, 7, 8, 9]\n",
    "casi = []\n",
    "stetja = []\n",
    "for i in range(0, len(tipi_grafov)):\n",
    "    print(\"TIP GRAFA \", tipi_grafov[i])\n",
    "    vmesni_casi = []\n",
    "    vmesna_stetja = []\n",
    "    for j in range(0, 2):\n",
    "        [grafi, weights] = min_grid_graf(50, tipi_grafov[i], 1, 100)\n",
    "        povprecje_w = [i * 1/len(weights) for i in [sum(x) for x in zip(*weights)]]\n",
    "        diagonalci = numpy.diag(kov_matrika(weights))\n",
    "        xi = vektorcki_x(grafi, (0, 0), (tipi_grafov[i] - 1, tipi_grafov[i] - 1))\n",
    "        xl = arglexmin(xi, [povprecje_w, diagonalci])\n",
    "        xln = xl[1]\n",
    "        xr = arglexmin(xi, [diagonalci, povprecje_w])\n",
    "        xrn = xr[1]\n",
    "        k = [0]\n",
    "        start_time = time.time()\n",
    "        intervali1(rob1, rob2, OBJ, x, P, D, xi, average_c, d, xevje, k)        \n",
    "        celoten_cas = (time.time() - start_time)\n",
    "        print(\"NAREJEN GRAF\")\n",
    "        print(\"Cas za en graf je\", celoten_cas)\n",
    "        print(\"Stetje za en graf je\", k[0])\n",
    "        vmesni_casi.append(celoten_cas)\n",
    "        vmesna_stetja.append(k[0])\n",
    "    print(\"Povprecje vmesnih casov je\", mean(vmesni_casi))\n",
    "    casi.append(mean(vmesni_casi))\n",
    "    print(\"Povprecje vmesnih stetji je\", mean(vmesna_stetja))\n",
    "    stetja.append(mean(vmesna_stetja))\n",
    "    print(\"USTVARJENI PODATKI ZA TIP\")\n",
    "    \n",
    "with open(\"results_improved_novi.json\", 'w') as f:\n",
    "    #with open('naivni.json', 'w') as f:\n",
    "    f.write(str(casi))\n",
    "    f.write(str(stetja))"
   ]
  }
 ],
 "metadata": {
  "kernelspec": {
   "display_name": "SageMath 9.2",
   "language": "sagemath",
   "metadata": {
    "cocalc": {
     "description": "Open-source mathematical software system",
     "priority": 10,
     "url": "https://www.sagemath.org/"
    }
   },
   "name": "sage-9.2",
   "resource_dir": "/ext/jupyter/kernels/sage-9.2"
  },
  "language_info": {
   "codemirror_mode": {
    "name": "ipython",
    "version": 3
   },
   "file_extension": ".py",
   "mimetype": "text/x-python",
   "name": "python",
   "nbconvert_exporter": "python",
   "pygments_lexer": "ipython3",
   "version": "3.8.5"
  }
 },
 "nbformat": 4,
 "nbformat_minor": 4
}