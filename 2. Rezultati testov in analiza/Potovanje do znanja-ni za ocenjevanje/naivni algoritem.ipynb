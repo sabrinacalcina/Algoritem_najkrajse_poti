{
 "cells": [
  {
   "cell_type": "code",
   "execution_count": 1,
   "metadata": {
    "collapsed": false
   },
   "outputs": [
   ],
   "source": [
    "import random\n",
    "import sage.graphs.graph_plot\n",
    "from sage.graphs.base.boost_graph import *\n",
    "from sage.plot.point import *\n",
    "import numpy\n",
    "import timeit\n",
    "from time import process_time\n",
    "import time\n"
   ]
  },
  {
   "cell_type": "code",
   "execution_count": 2,
   "metadata": {
    "collapsed": false
   },
   "outputs": [
   ],
   "source": [
    "def seznam_cen(st_opazanj, st_pov_grafa, min_cena, max_cena):\n",
    "    sur_podatki = []\n",
    "    for i in range(0, st_opazanj):\n",
    "        mer_povezav = []\n",
    "        for j in range(0, st_pov_grafa):\n",
    "            mer_povezav.append(numpy.random.random_integers(min_cena, max_cena))\n",
    "        sur_podatki.append(mer_povezav)\n",
    "    return(sur_podatki)\n",
    "\n",
    "#seznam_cen(1,2,0,5)\n",
    "#st_opazanj, st_pov_grafa, min_cena, max_cena = 1,2,0,5\n",
    "#execution_time = timeit.timeit('seznam_cen(st_opazanj, st_pov_grafa, min_cena, max_cena)', 'from __main__ import seznam_cen, st_opazanj, st_pov_grafa, min_cena, max_cena', number=1)\n",
    "#print(execution_time)\n",
    "\n",
    "#stevilo_pov_grafa = 2 * st_vozlisc^2 - 2 * st_vozlisc"
   ]
  },
  {
   "cell_type": "code",
   "execution_count": 3,
   "metadata": {
    "collapsed": false
   },
   "outputs": [
   ],
   "source": [
    "def mnoz(vektor1, vektor2):\n",
    "    matrika = []\n",
    "    for i in range(0,len(vektor1)):\n",
    "        vrstica =[]\n",
    "        for j in range(0, len(vektor2)):\n",
    "            vrstica.append(vektor1[i] * vektor2[j])\n",
    "        matrika.append(vrstica)\n",
    "    return(matrika)\n",
    "\n",
    "def kov_matrika(vse_utezi):\n",
    "    avr_pov = [i * 1/len(vse_utezi) for i in [sum(x) for x in zip(*vse_utezi)]]\n",
    "    #zac_mat = numpy.matrix(mnoz(numpy.subtract(vse_utezi[0],avr_pov),numpy.subtract(vse_utezi[0],avr_pov)))\n",
    "    zac_mat = mnoz(numpy.subtract(vse_utezi[0],avr_pov),numpy.subtract(vse_utezi[0],avr_pov))\n",
    "    for i in range(1, len(vse_utezi)):\n",
    "        #zac_mat += numpy.matrix(mnoz(numpy.subtract(vse_utezi[i],avr_pov),numpy.subtract(vse_utezi[i],avr_pov)))\n",
    "        zac_mat = numpy.add(zac_mat, mnoz(numpy.subtract(vse_utezi[i],avr_pov),numpy.subtract(vse_utezi[i],avr_pov)))\n",
    "    kon_mat = numpy.dot(1/len(vse_utezi), zac_mat)\n",
    "    return(kon_mat)"
   ]
  },
  {
   "cell_type": "code",
   "execution_count": 4,
   "metadata": {
    "collapsed": false
   },
   "outputs": [
   ],
   "source": [
    "def vektorcki_x(graf, zacetno, koncno):\n",
    "    vse_poti = graf.all_paths(zacetno, koncno, use_multiedges=True, report_edges=False, labels=False)\n",
    "    #vse_poti = graf.all_paths(zacetno, koncno)\n",
    "    vse_povezave = graf.edges()\n",
    "    par = []\n",
    "    for i in range(0,len(vse_povezave)):\n",
    "        par.append(vse_povezave[i][0:2])\n",
    "    seznam_vektorjev = []\n",
    "    for i in range(0, len(vse_poti)):\n",
    "        pot = (vse_poti[i])\n",
    "        prvi_oklepaj1 = list(zip(pot, pot[1:] + pot[:1]))\n",
    "        prvi_oklepaj = prvi_oklepaj1[:-1]\n",
    "        x=[]\n",
    "        for i in range(0, len(par)):\n",
    "            if par[i] in prvi_oklepaj:\n",
    "                x.append(1)\n",
    "            else:\n",
    "                x.append(0)\n",
    "        seznam_vektorjev.append(x)\n",
    "    return(seznam_vektorjev)"
   ]
  },
  {
   "cell_type": "code",
   "execution_count": 5,
   "metadata": {
    "collapsed": false
   },
   "outputs": [
   ],
   "source": [
    "def grid_graf(st_opazanj, st_vozlisc, min_cena, max_cena):\n",
    "    st_pov_grafa = 2 * st_vozlisc^2 - 2 * st_vozlisc\n",
    "    utezi = seznam_cen(st_opazanj, st_pov_grafa, min_cena, max_cena)\n",
    "    #graf_seznam = vsa_vozlisca(st_vozlisc, st_pov_grafa)\n",
    "    graf_seznam = graphs.Grid2dGraph(st_vozlisc, st_vozlisc).edges()\n",
    "    nov = [] #najprej spremeniva v list\n",
    "    for i in range(0,len(graf_seznam)):\n",
    "        nov.append(list(graf_seznam[i]))\n",
    "    konec = [] #dodava še ceno, v obliki ki jo sprjema digraph\n",
    "    seznam_grafov = []\n",
    "    for j in range(0,len(utezi)):\n",
    "        zadnji = []\n",
    "        for i in range(0,len(nov)):\n",
    "            vmesni = []\n",
    "            vmesni.append(nov[i][0])\n",
    "            vmesni.append(nov[i][1])\n",
    "            vmesni.append(utezi[j][i])\n",
    "            zadnji.append(tuple(vmesni))\n",
    "        konec.append(zadnji)\n",
    "        gr = DiGraph(zadnji)\n",
    "        seznam_grafov.append(gr)\n",
    "    #seznam_gra[0].show(edge_labels = True)\n",
    "    return(seznam_grafov, utezi)\n"
   ]
  },
  {
   "cell_type": "code",
   "execution_count": 6,
   "metadata": {
    "collapsed": false
   },
   "outputs": [
   ],
   "source": [
    "def min_grid_graf(st_opazanj, st_vozlisc, min_cena, max_cena):\n",
    "    st_pov_grafa = 2 * st_vozlisc^2 - 2 * st_vozlisc\n",
    "    utezi = seznam_cen(st_opazanj, st_pov_grafa, min_cena, max_cena)\n",
    "    graf_oblika = DiGraph(graphs.Grid2dGraph(st_vozlisc, st_vozlisc).edges())\n",
    "    return(graf_oblika, utezi)\n",
    "\n",
    "#[grafkec, utezi] = min_grid_graf(3, 3, 1, 100)\n",
    "#grafkec.show()"
   ]
  },
  {
   "cell_type": "code",
   "execution_count": 7,
   "metadata": {
    "collapsed": false
   },
   "outputs": [
   ],
   "source": [
    "def argmin(poti, av_pov, diagonala):\n",
    "    x_min = poti[0]\n",
    "    cena_pov = numpy.dot(av_pov, x_min)\n",
    "    cena_d = numpy.dot(diagonala, x_min)\n",
    "    cena = cena_pov + cena_d\n",
    "    #cena = numpy.dot(numpy.add(av_pov, diagonala), poti[0])\n",
    "    #if len(poti) == 1:\n",
    "    #    return(x_min, cena_pov, cena_d, cena)\n",
    "    #else:\n",
    "    for i in range(1, len(poti)):\n",
    "        x_nov = poti[i]\n",
    "        cena_pov_nov = numpy.dot(av_pov, x_nov)\n",
    "        cena_d_nov = numpy.dot(diagonala, x_nov)\n",
    "        cena_nov = cena_pov_nov + cena_d_nov\n",
    "        #cena_nov = numpy.dot(numpy.add(av_pov,diagonala), poti[i])\n",
    "        if cena_nov < cena:\n",
    "            x_min = x_nov\n",
    "            cena_pov = cena_pov_nov\n",
    "            cena_d = cena_d_nov\n",
    "            cena = cena_nov\n",
    "    return(x_min, cena_pov, cena_d, cena)"
   ]
  },
  {
   "cell_type": "code",
   "execution_count": 8,
   "metadata": {
    "collapsed": false
   },
   "outputs": [
   ],
   "source": [
    "def arglexmin(seznam_x, vektorji):\n",
    "    xmin = min(([numpy.dot(numpy.array(v), numpy.array(x)) for v in vektorji], x) for x in seznam_x)\n",
    "    return xmin"
   ]
  },
  {
   "cell_type": "code",
   "execution_count": 9,
   "metadata": {
    "collapsed": false
   },
   "outputs": [
   ],
   "source": [
    "uer = []\n",
    "def razisci(x0, x1, pov, diag, poti):\n",
    "    alfa_m = numpy.dot(diag,numpy.subtract(x1,x0)) / numpy.dot(numpy.subtract(pov,diag),numpy.subtract(x0,x1))\n",
    "    v_alfa = numpy.dot(alfa_m, pov)\n",
    "    v_1alfa = numpy.dot((1-alfa_m), diag)\n",
    "    vek_zv = numpy.add(v_alfa, v_1alfa)\n",
    "    #vek_brez_alfa = numpy.add(diag, pov)\n",
    "    x_zv = argmin(poti, v_alfa, v_1alfa)\n",
    "    stara_najboljsa = argmin([x0], numpy.dot(alfa_m, pov), numpy.dot((1-alfa_m), diag))[3]\n",
    "    if x_zv[3] < stara_najboljsa:\n",
    "        print(\"Dodali smo novo uč. eks. reš.\")\n",
    "        uer.append(x_zv[0])\n",
    "        #print(prvi_vektor)\n",
    "        print(\"vr. nove uer\", x_zv[3])\n",
    "        print(\"vr stare uer\", stara_najboljsa)\n",
    "        if -x_zv[3] + stara_najboljsa > 0.01:\n",
    "            razisci(x0, x_zv[0], pov, diag, poti)\n",
    "            razisci(x_zv[0], x1, pov, diag, poti)\n",
    "        else:\n",
    "            print(\"Razlika je minimalna. Koncamo.\")\n",
    "    else:\n",
    "        print(\"Ne najdemo izboljsanja. Koncamo.\")\n",
    "        #uer.append(argmin([x0, x1], pov, diag)[0])\n",
    "    return(uer)\n",
    "\n",
    "#def naivni_alg (x0, x1, pov, diag, poti):\n",
    "#    #uer =[]\n",
    "#    razisci(x0, x1, pov, diag, poti)\n",
    "#    return(uer)\n",
    "\n",
    "#razisci(xln, xrn, povprecje_w, diagonalci, xi)"
   ]
  },
  {
   "cell_type": "code",
   "execution_count": 0,
   "metadata": {
    "collapsed": false
   },
   "outputs": [
   ],
   "source": [
   ]
  },
  {
   "cell_type": "code",
   "execution_count": 21,
   "metadata": {
    "collapsed": false
   },
   "outputs": [
   ],
   "source": [
    "#boljša praksa, najde pravo stevilo uer, vendar izpise vse\n",
    "#k = [0]\n",
    "def razisci1(x0, x1, pov, diag, poti, s):\n",
    "    alfa_m = numpy.dot(diag,numpy.subtract(x1,x0)) / numpy.dot(numpy.subtract(pov,diag),numpy.subtract(x0,x1))\n",
    "    v_alfa = numpy.dot(alfa_m, pov)\n",
    "    v_1alfa = numpy.dot((1-alfa_m), diag)\n",
    "    vek_zv = numpy.add(v_alfa, v_1alfa)\n",
    "    x_zv = argmin(poti, v_alfa, v_1alfa)\n",
    "    k[0] += 1\n",
    "    stara_najboljsa = argmin([x0], numpy.dot(alfa_m, pov), numpy.dot((1-alfa_m), diag))[3]\n",
    "    if x_zv[3] < stara_najboljsa:\n",
    "        #print(\"Dodali smo novo uč. eks. reš.\")\n",
    "        s.append(x_zv[0])\n",
    "        if -x_zv[3] + stara_najboljsa > 0.01:\n",
    "            #print(\"Razlika dovolj velika\")\n",
    "            razisci1(x0, x_zv[0], pov, diag, poti, s)\n",
    "            razisci1(x_zv[0], x1, pov, diag, poti, s)\n",
    "        #else:\n",
    "        #    print(\"Razlika je minimalna. Koncamo.\")\n",
    "    #else:\n",
    "        #print(\"Ne najdemo izboljsanja. Koncamo.\")\n",
    "    return(s, k[0])\n",
    "\n",
    "\n",
    "#start_time = time.time()\n",
    "#print(\"--- %s seconds ---\" % (time.time() - start_time))\n",
    "\n",
    "\n",
    "#razisci1(xln, xrn, povprecje_w, diagonalci, xi, [])\n",
    "\n",
    "#print(timeit.timeit(razisci1(x0, x1, pov, diag, poti, s, k), number = 5))\n",
    "\n",
    "\n",
    "#x0, x1, pov, diag, poti, s, k = xln, xrn, povprecje_w, diagonalci, xi, [], 0\n",
    "#execution_time = timeit.timeit(razisci1(x0, x1, pov, diag, poti, s, k), 'from __main__ import x0, x1, pov, diag, poti, s, k', number=1)\n",
    "#print(execution_time)\n",
    "\n"
   ]
  },
  {
   "cell_type": "code",
   "execution_count": 0,
   "metadata": {
    "collapsed": false
   },
   "outputs": [
   ],
   "source": [
   ]
  },
  {
   "cell_type": "code",
   "execution_count": 0,
   "metadata": {
    "collapsed": false
   },
   "outputs": [
   ],
   "source": [
   ]
  },
  {
   "cell_type": "code",
   "execution_count": 11,
   "metadata": {
    "collapsed": false
   },
   "outputs": [
   ],
   "source": [
    "#start_time = time.time()\n",
    "#print(start_time)\n",
    "##razisci1(xln, xrn, povprecje_w, diagonalci, xi, [])\n",
    "#cas = (\"--- %s seconds ---\" % (time.time() - start_time))\n",
    "#print(cas)"
   ]
  },
  {
   "cell_type": "code",
   "execution_count": 12,
   "metadata": {
    "collapsed": false
   },
   "outputs": [
   ],
   "source": [
    "#st_opazanj, st_vozlisc, min_cena, max_cena = 50, 5, 0, 100\n",
    "#s = razisci1(xln, xrn, povprecje_w, diagonalci, xi, [])\n",
    "\n",
    "#cas = []\n",
    "#for i in range(2):\n",
    "#[grafi, weights] = min_grid_graf(50, 9, 1, 100)\n",
    "#diagonalci = numpy.diag(kov_matrika(weights))\n",
    "#povprecje_w = [i * 1/len(weights) for i in [sum(x) for x in zip(*weights)]]\n",
    "#xi = vektorcki_x(grafi, (0, 0), (8, 8))\n",
    "#xl = arglexmin(xi, [povprecje_w, diagonalci])\n",
    "#xln = xl[1]\n",
    "#xr = arglexmin(xi, [diagonalci, povprecje_w])\n",
    "#xrn = xr[1]\n",
    "#k = [0]\n",
    "#start_time = time.time()\n",
    "#razisci1(xln, xrn, povprecje_w, diagonalci, xi, [])\n",
    "#celoten_cas = (time.time() - start_time)\n",
    "#print(\"1. končano\")\n",
    "#with open('naivni.json', 'w') as f:\n",
    "#    f.write(str(k))\n",
    "#    f.write(str(celoten_cas)\n",
    "\n",
    "\n",
    "#with open('naivni.json', 'w') as f:\n",
    "#    f.write(s)\n",
    "\n",
    "#st_opazanj, st_vozlisc, min_cena, max_cena = 50, 5, 0, 100\n",
    "#x0, x1, pov, diag, poti, s = xln, xrn, povprecje_w, diagonalci, xi, []\n",
    "\n",
    "#with open(\"graf_{}_{}_{}_{}.json\".format(st_opazanj, st_vozlisc, min_cena, max_cena)) as f:\n",
    " #   st_opazanj = json.load(f)\n",
    "#vektor_xl = numpy.array(vektor_xl)\n",
    "#vektor_xr = numpy.array(vektor_xr)"
   ]
  },
  {
   "cell_type": "code",
   "execution_count": 0,
   "metadata": {
    "collapsed": false,
    "scrolled": true
   },
   "outputs": [
   ],
   "source": [
   ]
  },
  {
   "cell_type": "code",
   "execution_count": 13,
   "metadata": {
    "collapsed": false
   },
   "outputs": [
   ],
   "source": [
    "##[grafi, weights] = grid_graf(50, 9, 1, 100)\n",
    "##weights = grid_graf(50, 9, 1, 100)[1]\n",
    "#[grafi, weights] = min_grid_graf(50, 9, 1, 100)\n",
    "##DO xi DELA MAX ZA 9x9 GRID GRAFE, SICER ZMANJKA SPOMINA\n",
    "##g = grafi[0]\n",
    "##g.show(edge_labels = True)\n",
    "#povprecje_w = [i * 1/len(weights) for i in [sum(x) for x in zip(*weights)]]\n",
    "##print(povprecje_w)\n",
    "##print(kov_matrika(weights))\n",
    "#diagonalci = numpy.diag(kov_matrika(weights))\n",
    "##print(diagonalci)\n",
    "##xi = vektorcki_x(g, (0, 0), (8, 8))\n",
    "##graphs.Grid2dGraph(st_vozlisc, st_vozlisc).edges()\n",
    "#xi = vektorcki_x(grafi, (0, 0), (8, 8))\n",
    "##print(weights)\n",
    "##print(xi)\n",
    "#print(len(xi))\n",
    "##print(\"dolzina xi je\", len(xi))\n",
    "#\n",
    "#xl = arglexmin(xi, [povprecje_w, diagonalci])\n",
    "#xln = xl[1]\n",
    "##print(\"xl in njegove vr\", xl)\n",
    "##print(xln)\n",
    "#xr = arglexmin(xi, [diagonalci, povprecje_w])\n",
    "#xrn = xr[1]\n",
    "##print(\"xr in njegove vr\", xr)\n",
    "##print(xrn)\n",
    "#print(xln == xrn)\n",
    "\n"
   ]
  },
  {
   "cell_type": "code",
   "execution_count": 14,
   "metadata": {
    "collapsed": false
   },
   "outputs": [
   ],
   "source": [
    "#Izpišimo rezultate\n",
    "#import json\n",
    "#\n",
    "#stetja = []\n",
    "#casi = []\n",
    "#for i in range(10):\n",
    "#    [grafi, weights] = min_grid_graf(50, 9, 1, 100)\n",
    "#    povprecje_w = [i * 1/len(weights) for i in [sum(x) for x in zip(*weights)]]\n",
    "#    diagonalci = numpy.diag(kov_matrika(weights))\n",
    "#    xi = vektorcki_x(grafi, (0, 0), (8, 8))\n",
    "#    xl = arglexmin(xi, [povprecje_w, diagonalci])\n",
    "#    xln = xl[1]\n",
    "#    xr = arglexmin(xi, [diagonalci, povprecje_w])\n",
    "#    xrn = xr[1]\n",
    "#    k = [0]\n",
    "#    start_time = time.time()\n",
    "#    razisci1(xln, xrn, povprecje_w, diagonalci, xi, [])\n",
    "#    celoten_cas = (time.time() - start_time)\n",
    "#    print(\"1. končano\")\n",
    "#    casi.append(celoten_cas)\n",
    "#    stetja.append(k[0])\n",
    "#with open(\"rezultati_naivni.json\", 'w') as f:\n",
    "#    #with open('naivni.json', 'w') as f:\n",
    "#    f.write(str(stetja))\n",
    "#    f.write(',')\n",
    "#    f.write(str(casi))"
   ]
  },
  {
   "cell_type": "code",
   "execution_count": 15,
   "metadata": {
    "collapsed": false
   },
   "outputs": [
   ],
   "source": [
    "#potkice = vektorcki_x(DiGraph(graphs.Grid2dGraph(3, 3).edges()), (0, 0), (2, 2))\n",
    "#len(potkice)\n"
   ]
  },
  {
   "cell_type": "code",
   "execution_count": 16,
   "metadata": {
    "collapsed": false
   },
   "outputs": [
   ],
   "source": [
    "#DiGraph(graphs.Grid2dGraph(3, 3).edges()).show()"
   ]
  },
  {
   "cell_type": "code",
   "execution_count": 0,
   "metadata": {
    "collapsed": false
   },
   "outputs": [
   ],
   "source": [
   ]
  },
  {
   "cell_type": "code",
   "execution_count": 22,
   "metadata": {
    "collapsed": false
   },
   "outputs": [
    {
     "name": "stdout",
     "output_type": "stream",
     "text": [
      "TIP GRAFA  3\n"
     ]
    },
    {
     "name": "stderr",
     "output_type": "stream",
     "text": [
      "<ipython-input-2-e01c9a3f838c>:6: DeprecationWarning: This function is deprecated. Please call randint(1, 100 + 1) instead\n",
      "  mer_povezav.append(numpy.random.random_integers(min_cena, max_cena))\n"
     ]
    },
    {
     "name": "stderr",
     "output_type": "stream",
     "text": [
      "<ipython-input-21-91dc55d76f17>:4: RuntimeWarning: invalid value encountered in double_scalars\n",
      "  alfa_m = numpy.dot(diag,numpy.subtract(x1,x0)) / numpy.dot(numpy.subtract(pov,diag),numpy.subtract(x0,x1))\n"
     ]
    },
    {
     "name": "stdout",
     "output_type": "stream",
     "text": [
      "NAREJEN GRAF\n",
      "Cas za en graf je 0.014796733856201172\n",
      "Stetje za en graf je 1\n",
      "NAREJEN GRAF\n",
      "Cas za en graf je 0.0016393661499023438\n",
      "Stetje za en graf je 5\n",
      "NAREJEN GRAF\n",
      "Cas za en graf je 0.0003399848937988281\n",
      "Stetje za en graf je 1\n",
      "NAREJEN GRAF\n",
      "Cas za en graf je 0.0003209114074707031\n",
      "Stetje za en graf je 1\n",
      "NAREJEN GRAF\n",
      "Cas za en graf je 0.0006067752838134766\n",
      "Stetje za en graf je 1\n",
      "NAREJEN GRAF\n",
      "Cas za en graf je 0.001856088638305664\n",
      "Stetje za en graf je 3\n"
     ]
    },
    {
     "name": "stdout",
     "output_type": "stream",
     "text": [
      "NAREJEN GRAF\n",
      "Cas za en graf je 0.0028252601623535156\n",
      "Stetje za en graf je 5\n",
      "NAREJEN GRAF\n",
      "Cas za en graf je 0.001622915267944336\n",
      "Stetje za en graf je 3\n",
      "NAREJEN GRAF\n",
      "Cas za en graf je 0.0005662441253662109\n",
      "Stetje za en graf je 1\n",
      "NAREJEN GRAF\n",
      "Cas za en graf je 0.0016334056854248047\n",
      "Stetje za en graf je 3\n",
      "Povprecje vmesnih casov je 0.0026207685470581053\n",
      "Povprecje vmesnih stetji je 12/5\n",
      "USTVARJENI PODATKI ZA TIP\n",
      "TIP GRAFA  4\n",
      "NAREJEN GRAF\n",
      "Cas za en graf je 0.007539033889770508\n",
      "Stetje za en graf je 3\n"
     ]
    },
    {
     "name": "stdout",
     "output_type": "stream",
     "text": [
      "NAREJEN GRAF\n",
      "Cas za en graf je 0.007972955703735352\n",
      "Stetje za en graf je 3\n",
      "NAREJEN GRAF\n",
      "Cas za en graf je 0.003763437271118164\n",
      "Stetje za en graf je 3\n",
      "NAREJEN GRAF\n",
      "Cas za en graf je 0.012018203735351562\n",
      "Stetje za en graf je 5\n",
      "NAREJEN GRAF\n",
      "Cas za en graf je 0.0038213729858398438\n",
      "Stetje za en graf je 3\n"
     ]
    },
    {
     "name": "stdout",
     "output_type": "stream",
     "text": [
      "NAREJEN GRAF\n",
      "Cas za en graf je 0.005408525466918945\n",
      "Stetje za en graf je 3\n",
      "NAREJEN GRAF\n",
      "Cas za en graf je 0.0013964176177978516\n",
      "Stetje za en graf je 1\n",
      "NAREJEN GRAF\n",
      "Cas za en graf je 0.004191875457763672\n",
      "Stetje za en graf je 3\n",
      "NAREJEN GRAF\n",
      "Cas za en graf je 0.0041179656982421875\n",
      "Stetje za en graf je 3\n"
     ]
    },
    {
     "name": "stdout",
     "output_type": "stream",
     "text": [
      "NAREJEN GRAF\n",
      "Cas za en graf je 0.017606258392333984\n",
      "Stetje za en graf je 5\n",
      "Povprecje vmesnih casov je 0.006783604621887207\n",
      "Povprecje vmesnih stetji je 16/5\n",
      "USTVARJENI PODATKI ZA TIP\n",
      "TIP GRAFA  5\n",
      "NAREJEN GRAF\n",
      "Cas za en graf je 0.012000083923339844\n",
      "Stetje za en graf je 1\n"
     ]
    },
    {
     "name": "stdout",
     "output_type": "stream",
     "text": [
      "NAREJEN GRAF\n",
      "Cas za en graf je 0.06500387191772461\n",
      "Stetje za en graf je 9\n",
      "NAREJEN GRAF\n",
      "Cas za en graf je 0.07456541061401367\n",
      "Stetje za en graf je 9\n"
     ]
    },
    {
     "name": "stdout",
     "output_type": "stream",
     "text": [
      "NAREJEN GRAF\n",
      "Cas za en graf je 0.020776748657226562\n",
      "Stetje za en graf je 3\n",
      "NAREJEN GRAF\n",
      "Cas za en graf je 0.07919764518737793\n",
      "Stetje za en graf je 7\n"
     ]
    },
    {
     "name": "stdout",
     "output_type": "stream",
     "text": [
      "NAREJEN GRAF\n",
      "Cas za en graf je 0.049965620040893555\n",
      "Stetje za en graf je 3\n",
      "NAREJEN GRAF\n",
      "Cas za en graf je 0.020624399185180664\n",
      "Stetje za en graf je 3\n"
     ]
    },
    {
     "name": "stdout",
     "output_type": "stream",
     "text": [
      "NAREJEN GRAF\n",
      "Cas za en graf je 0.07683920860290527\n",
      "Stetje za en graf je 7\n",
      "NAREJEN GRAF\n",
      "Cas za en graf je 0.019474267959594727\n",
      "Stetje za en graf je 3\n"
     ]
    },
    {
     "name": "stdout",
     "output_type": "stream",
     "text": [
      "NAREJEN GRAF\n",
      "Cas za en graf je 0.006432056427001953\n",
      "Stetje za en graf je 1\n",
      "Povprecje vmesnih casov je 0.042487931251525876\n",
      "Povprecje vmesnih stetji je 23/5\n",
      "USTVARJENI PODATKI ZA TIP\n",
      "TIP GRAFA  6\n"
     ]
    },
    {
     "name": "stdout",
     "output_type": "stream",
     "text": [
      "NAREJEN GRAF\n",
      "Cas za en graf je 0.1946556568145752\n",
      "Stetje za en graf je 5\n"
     ]
    },
    {
     "name": "stdout",
     "output_type": "stream",
     "text": [
      "NAREJEN GRAF\n",
      "Cas za en graf je 0.16630315780639648\n",
      "Stetje za en graf je 3\n"
     ]
    },
    {
     "name": "stdout",
     "output_type": "stream",
     "text": [
      "NAREJEN GRAF\n",
      "Cas za en graf je 0.19586801528930664\n",
      "Stetje za en graf je 5\n"
     ]
    },
    {
     "name": "stdout",
     "output_type": "stream",
     "text": [
      "NAREJEN GRAF\n",
      "Cas za en graf je 0.1631486415863037\n",
      "Stetje za en graf je 3\n"
     ]
    },
    {
     "name": "stdout",
     "output_type": "stream",
     "text": [
      "NAREJEN GRAF\n",
      "Cas za en graf je 0.14269471168518066\n",
      "Stetje za en graf je 3\n"
     ]
    },
    {
     "name": "stdout",
     "output_type": "stream",
     "text": [
      "NAREJEN GRAF\n",
      "Cas za en graf je 0.5543158054351807\n",
      "Stetje za en graf je 9\n"
     ]
    },
    {
     "name": "stdout",
     "output_type": "stream",
     "text": [
      "NAREJEN GRAF\n",
      "Cas za en graf je 0.6694035530090332\n",
      "Stetje za en graf je 13\n"
     ]
    },
    {
     "name": "stdout",
     "output_type": "stream",
     "text": [
      "NAREJEN GRAF\n",
      "Cas za en graf je 0.14493250846862793\n",
      "Stetje za en graf je 3\n"
     ]
    },
    {
     "name": "stdout",
     "output_type": "stream",
     "text": [
      "NAREJEN GRAF\n",
      "Cas za en graf je 0.3867337703704834\n",
      "Stetje za en graf je 9\n"
     ]
    },
    {
     "name": "stdout",
     "output_type": "stream",
     "text": [
      "NAREJEN GRAF\n",
      "Cas za en graf je 0.21388697624206543\n",
      "Stetje za en graf je 5\n",
      "Povprecje vmesnih casov je 0.2831942796707153\n",
      "Povprecje vmesnih stetji je 29/5\n",
      "USTVARJENI PODATKI ZA TIP\n",
      "TIP GRAFA  7\n"
     ]
    },
    {
     "name": "stdout",
     "output_type": "stream",
     "text": [
      "NAREJEN GRAF\n",
      "Cas za en graf je 1.3898053169250488\n",
      "Stetje za en graf je 7\n"
     ]
    },
    {
     "name": "stdout",
     "output_type": "stream",
     "text": [
      "NAREJEN GRAF\n",
      "Cas za en graf je 1.5703678131103516\n",
      "Stetje za en graf je 7\n"
     ]
    },
    {
     "name": "stdout",
     "output_type": "stream",
     "text": [
      "NAREJEN GRAF\n",
      "Cas za en graf je 1.4206383228302002\n",
      "Stetje za en graf je 7\n"
     ]
    },
    {
     "name": "stdout",
     "output_type": "stream",
     "text": [
      "NAREJEN GRAF\n",
      "Cas za en graf je 1.3757598400115967\n",
      "Stetje za en graf je 7\n"
     ]
    },
    {
     "name": "stdout",
     "output_type": "stream",
     "text": [
      "NAREJEN GRAF\n",
      "Cas za en graf je 2.0125153064727783\n",
      "Stetje za en graf je 11\n"
     ]
    },
    {
     "name": "stdout",
     "output_type": "stream",
     "text": [
      "NAREJEN GRAF\n",
      "Cas za en graf je 1.7026126384735107\n",
      "Stetje za en graf je 9\n"
     ]
    },
    {
     "name": "stdout",
     "output_type": "stream",
     "text": [
      "NAREJEN GRAF\n",
      "Cas za en graf je 0.8836345672607422\n",
      "Stetje za en graf je 5\n"
     ]
    },
    {
     "name": "stdout",
     "output_type": "stream",
     "text": [
      "NAREJEN GRAF\n",
      "Cas za en graf je 2.0044338703155518\n",
      "Stetje za en graf je 11\n"
     ]
    },
    {
     "name": "stdout",
     "output_type": "stream",
     "text": [
      "NAREJEN GRAF\n",
      "Cas za en graf je 0.20728015899658203\n",
      "Stetje za en graf je 1\n"
     ]
    },
    {
     "name": "stdout",
     "output_type": "stream",
     "text": [
      "NAREJEN GRAF\n",
      "Cas za en graf je 0.5309712886810303\n",
      "Stetje za en graf je 3\n",
      "Povprecje vmesnih casov je 1.3098019123077393\n",
      "Povprecje vmesnih stetji je 34/5\n",
      "USTVARJENI PODATKI ZA TIP\n",
      "TIP GRAFA  8\n"
     ]
    },
    {
     "name": "stdout",
     "output_type": "stream",
     "text": [
      "NAREJEN GRAF\n",
      "Cas za en graf je 4.560579061508179\n",
      "Stetje za en graf je 5\n"
     ]
    },
    {
     "name": "stdout",
     "output_type": "stream",
     "text": [
      "NAREJEN GRAF\n",
      "Cas za en graf je 8.202022075653076\n",
      "Stetje za en graf je 9\n"
     ]
    },
    {
     "name": "stdout",
     "output_type": "stream",
     "text": [
      "NAREJEN GRAF\n",
      "Cas za en graf je 8.930189371109009\n",
      "Stetje za en graf je 9\n"
     ]
    },
    {
     "name": "stdout",
     "output_type": "stream",
     "text": [
      "NAREJEN GRAF\n",
      "Cas za en graf je 8.229848623275757\n",
      "Stetje za en graf je 9\n"
     ]
    },
    {
     "name": "stdout",
     "output_type": "stream",
     "text": [
      "NAREJEN GRAF\n",
      "Cas za en graf je 8.091617584228516\n",
      "Stetje za en graf je 7\n"
     ]
    },
    {
     "name": "stdout",
     "output_type": "stream",
     "text": [
      "NAREJEN GRAF\n",
      "Cas za en graf je 7.092514991760254\n",
      "Stetje za en graf je 7\n"
     ]
    },
    {
     "name": "stdout",
     "output_type": "stream",
     "text": [
      "NAREJEN GRAF\n",
      "Cas za en graf je 8.792836904525757\n",
      "Stetje za en graf je 9\n"
     ]
    },
    {
     "name": "stdout",
     "output_type": "stream",
     "text": [
      "NAREJEN GRAF\n",
      "Cas za en graf je 8.59251618385315\n",
      "Stetje za en graf je 9\n"
     ]
    },
    {
     "name": "stdout",
     "output_type": "stream",
     "text": [
      "NAREJEN GRAF\n",
      "Cas za en graf je 8.358877182006836\n",
      "Stetje za en graf je 9\n"
     ]
    },
    {
     "name": "stdout",
     "output_type": "stream",
     "text": [
      "NAREJEN GRAF\n",
      "Cas za en graf je 4.616651773452759\n",
      "Stetje za en graf je 5\n",
      "Povprecje vmesnih casov je 7.546765375137329\n",
      "Povprecje vmesnih stetji je 39/5\n",
      "USTVARJENI PODATKI ZA TIP\n",
      "TIP GRAFA  9\n"
     ]
    },
    {
     "name": "stdout",
     "output_type": "stream",
     "text": [
      "NAREJEN GRAF\n",
      "Cas za en graf je 26.02227210998535\n",
      "Stetje za en graf je 5\n"
     ]
    },
    {
     "name": "stdout",
     "output_type": "stream",
     "text": [
      "NAREJEN GRAF\n",
      "Cas za en graf je 48.92776155471802\n",
      "Stetje za en graf je 11\n"
     ]
    },
    {
     "name": "stdout",
     "output_type": "stream",
     "text": [
      "NAREJEN GRAF\n",
      "Cas za en graf je 24.368579387664795\n",
      "Stetje za en graf je 5\n"
     ]
    },
    {
     "name": "stdout",
     "output_type": "stream",
     "text": [
      "NAREJEN GRAF\n",
      "Cas za en graf je 44.491533517837524\n",
      "Stetje za en graf je 9\n"
     ]
    },
    {
     "name": "stdout",
     "output_type": "stream",
     "text": [
      "NAREJEN GRAF\n",
      "Cas za en graf je 52.095648765563965\n",
      "Stetje za en graf je 11\n"
     ]
    },
    {
     "name": "stdout",
     "output_type": "stream",
     "text": [
      "NAREJEN GRAF\n",
      "Cas za en graf je 42.07787466049194\n",
      "Stetje za en graf je 9\n"
     ]
    },
    {
     "name": "stdout",
     "output_type": "stream",
     "text": [
      "NAREJEN GRAF\n",
      "Cas za en graf je 35.662899017333984\n",
      "Stetje za en graf je 7\n"
     ]
    },
    {
     "name": "stdout",
     "output_type": "stream",
     "text": [
      "NAREJEN GRAF\n",
      "Cas za en graf je 33.03261137008667\n",
      "Stetje za en graf je 7\n"
     ]
    },
    {
     "name": "stdout",
     "output_type": "stream",
     "text": [
      "NAREJEN GRAF\n",
      "Cas za en graf je 69.60301661491394\n",
      "Stetje za en graf je 13\n"
     ]
    },
    {
     "name": "stdout",
     "output_type": "stream",
     "text": [
      "NAREJEN GRAF\n",
      "Cas za en graf je 28.64816665649414\n",
      "Stetje za en graf je 5\n",
      "Povprecje vmesnih casov je 40.493036365509035\n",
      "Povprecje vmesnih stetji je 41/5\n",
      "USTVARJENI PODATKI ZA TIP\n"
     ]
    }
   ],
   "source": [
    "import json\n",
    "\n",
    "tipi_grafov = [3, 4, 5, 6, 7, 8, 9]\n",
    "#rezultati = []\n",
    "casi = []\n",
    "#casi = []\n",
    "stetja = []\n",
    "for i in range(0, len(tipi_grafov)):\n",
    "    print(\"TIP GRAFA \", tipi_grafov[i])\n",
    "    #rezultati_tipa_grafov = []\n",
    "    vmesni_casi = []\n",
    "    vmesna_stetja = []\n",
    "    for j in range(0, 10):\n",
    "        [grafi, weights] = min_grid_graf(50, tipi_grafov[i], 1, 100)\n",
    "        povprecje_w = [i * 1/len(weights) for i in [sum(x) for x in zip(*weights)]]\n",
    "        diagonalci = numpy.diag(kov_matrika(weights))\n",
    "        xi = vektorcki_x(grafi, (0, 0), (tipi_grafov[i] - 1, tipi_grafov[i] - 1))\n",
    "        xl = arglexmin(xi, [povprecje_w, diagonalci])\n",
    "        xln = xl[1]\n",
    "        xr = arglexmin(xi, [diagonalci, povprecje_w])\n",
    "        xrn = xr[1]\n",
    "        k = [0]\n",
    "        start_time = time.time()\n",
    "        razisci1(xln, xrn, povprecje_w, diagonalci, xi, [])\n",
    "        celoten_cas = (time.time() - start_time)\n",
    "        print(\"NAREJEN GRAF\")\n",
    "        print(\"Cas za en graf je\", celoten_cas)\n",
    "        print(\"Stetje za en graf je\", k[0])\n",
    "        vmesni_casi.append(celoten_cas)\n",
    "        vmesna_stetja.append(k[0])\n",
    "    #rezultati_tipa_grafov.append(mean(vmesni_casi))\n",
    "    print(\"Povprecje vmesnih casov je\", mean(vmesni_casi))\n",
    "    casi.append(mean(vmesni_casi))\n",
    "    #rezultati_tipa_grafov.append(mean(vmesna_stetja))\n",
    "    print(\"Povprecje vmesnih stetji je\", mean(vmesna_stetja))\n",
    "    stetja.append(mean(vmesna_stetja))\n",
    "    #rezultati.append(rezultati_tipa_grafov)\n",
    "    print(\"USTVARJENI PODATKI ZA TIP\")\n",
    "    \n",
    "with open(\"results_naivni.json\", 'w') as f:\n",
    "    #with open('naivni.json', 'w') as f:\n",
    "    f.write(str(casi))\n",
    "    f.write(str(stetja))"
   ]
  },
  {
   "cell_type": "code",
   "execution_count": 0,
   "metadata": {
    "collapsed": false
   },
   "outputs": [
   ],
   "source": [
   ]
  }
 ],
 "metadata": {
  "kernelspec": {
   "display_name": "SageMath 9.2",
   "language": "sagemath",
   "metadata": {
    "cocalc": {
     "description": "Open-source mathematical software system",
     "priority": 10,
     "url": "https://www.sagemath.org/"
    }
   },
   "name": "sage-9.2",
   "resource_dir": "/ext/jupyter/kernels/sage-9.2"
  },
  "language_info": {
   "codemirror_mode": {
    "name": "ipython",
    "version": 3
   },
   "file_extension": ".py",
   "mimetype": "text/x-python",
   "name": "python",
   "nbconvert_exporter": "python",
   "pygments_lexer": "ipython3",
   "version": "3.8.5"
  }
 },
 "nbformat": 4,
 "nbformat_minor": 4
}