{
 "cells": [
  {
   "cell_type": "code",
   "execution_count": 1,
   "metadata": {
    "collapsed": false
   },
   "outputs": [
   ],
   "source": [
    "import random\n",
    "import sage.graphs.graph_plot\n",
    "from sage.graphs.base.boost_graph import *\n",
    "from sage.plot.point import *\n",
    "import numpy\n",
    "import timeit\n",
    "from time import process_time\n",
    "import time\n"
   ]
  },
  {
   "cell_type": "code",
   "execution_count": 2,
   "metadata": {
    "collapsed": false
   },
   "outputs": [
   ],
   "source": [
    "#generira seznam opažanj cen za grafe, kjer je st_pov_grafa število povezav grafa.\n",
    "\n",
    "def seznam_cen(st_opazanj, st_pov_grafa, min_cena, max_cena):\n",
    "    sur_podatki = [] #seznam vseh opažanj\n",
    "    for i in range(0, st_opazanj):\n",
    "        mer_povezav = []\n",
    "        for j in range(0, st_pov_grafa):\n",
    "            mer_povezav.append(numpy.random.random_integers(min_cena, max_cena)) #cene so enakomerno porazdeljene v [min_cena, max_cena]\n",
    "        sur_podatki.append(mer_povezav)\n",
    "    return(sur_podatki)\n",
    "\n",
    "#stevilo_pov_grafa = 2 * st_vozlisc^2 - 2 * st_vozlisc, število povezav v n x n mrežastih grafih"
   ]
  },
  {
   "cell_type": "code",
   "execution_count": 3,
   "metadata": {
    "collapsed": false
   },
   "outputs": [
   ],
   "source": [
    "#funkcija ki vektor množi s transponiranim vektorjem\n",
    "\n",
    "def mnoz(vektor1, vektor2):\n",
    "    matrika = []\n",
    "    for i in range(0,len(vektor1)):\n",
    "        vrstica =[]\n",
    "        for j in range(0, len(vektor2)):\n",
    "            vrstica.append(vektor1[i] * vektor2[j])\n",
    "        matrika.append(vrstica)\n",
    "    return(matrika)\n",
    "\n",
    "#izračuna matriko, ki specificira obliko in velikost elipsoidne množice negotovosti\n",
    "def kov_matrika(vse_utezi):\n",
    "    avr_pov = [i * 1/len(vse_utezi) for i in [sum(x) for x in zip(*vse_utezi)]] #povprečen vektor cen povezav\n",
    "    zac_mat = mnoz(numpy.subtract(vse_utezi[0],avr_pov),numpy.subtract(vse_utezi[0],avr_pov))\n",
    "    for i in range(1, len(vse_utezi)):\n",
    "        zac_mat = numpy.add(zac_mat, mnoz(numpy.subtract(vse_utezi[i],avr_pov),numpy.subtract(vse_utezi[i],avr_pov))) #seštevanje matrik\n",
    "    kon_mat = numpy.dot(1/len(vse_utezi), zac_mat) #povprečje vseh matrik\n",
    "    return(kon_mat)"
   ]
  },
  {
   "cell_type": "code",
   "execution_count": 4,
   "metadata": {
    "collapsed": false
   },
   "outputs": [
   ],
   "source": [
    "#grafu priredi vektor 0 in 1, ki vrne 1 če je povezava uporabljena na poti med začetnim in končnim vozliščem, in 0 če ni\n",
    "\n",
    "def vektorcki_x(graf, zacetno, koncno):\n",
    "    vse_poti = graf.all_paths(zacetno, koncno, use_multiedges=True, report_edges=False, labels=False)\n",
    "    vse_povezave = graf.edges()\n",
    "    par = []\n",
    "    for i in range(0,len(vse_povezave)):\n",
    "        par.append(vse_povezave[i][0:2])\n",
    "    seznam_vektorjev = []\n",
    "    for i in range(0, len(vse_poti)):\n",
    "        pot = (vse_poti[i])\n",
    "        prvi_oklepaj1 = list(zip(pot, pot[1:] + pot[:1]))\n",
    "        prvi_oklepaj = prvi_oklepaj1[:-1]\n",
    "        x=[]\n",
    "        for i in range(0, len(par)):\n",
    "            if par[i] in prvi_oklepaj:\n",
    "                x.append(1)\n",
    "            else:\n",
    "                x.append(0)\n",
    "        seznam_vektorjev.append(x)\n",
    "    return(seznam_vektorjev)"
   ]
  },
  {
   "cell_type": "code",
   "execution_count": 5,
   "metadata": {
    "collapsed": false
   },
   "outputs": [
   ],
   "source": [
    "#naredi mrežaste grafe, v nadaljevanju je nisva uporabila zaradi njene pomnilniške zahtevnosti\n",
    "\n",
    "def grid_graf(st_opazanj, st_vozlisc, min_cena, max_cena):\n",
    "    st_pov_grafa = 2 * st_vozlisc^2 - 2 * st_vozlisc\n",
    "    utezi = seznam_cen(st_opazanj, st_pov_grafa, min_cena, max_cena)\n",
    "    graf_seznam = graphs.Grid2dGraph(st_vozlisc, st_vozlisc).edges()\n",
    "    nov = [] #najprej spremeniva v list\n",
    "    for i in range(0,len(graf_seznam)):\n",
    "        nov.append(list(graf_seznam[i]))\n",
    "    konec = [] #dodava še ceno, v obliki ki jo sprjema digraph\n",
    "    seznam_grafov = []\n",
    "    for j in range(0,len(utezi)):\n",
    "        zadnji = []\n",
    "        for i in range(0,len(nov)):\n",
    "            vmesni = []\n",
    "            vmesni.append(nov[i][0])\n",
    "            vmesni.append(nov[i][1])\n",
    "            vmesni.append(utezi[j][i])\n",
    "            zadnji.append(tuple(vmesni))\n",
    "        konec.append(zadnji)\n",
    "        gr = DiGraph(zadnji) #dan seznam povezav spremeni v usmerjen graf\n",
    "        seznam_grafov.append(gr)\n",
    "    return(seznam_grafov, utezi)\n"
   ]
  },
  {
   "cell_type": "code",
   "execution_count": 5,
   "metadata": {
    "collapsed": false
   },
   "outputs": [
   ],
   "source": [
    "#naredi en mrežast graf, to sva v nadaljevanju uporabljala\n",
    "\n",
    "def min_grid_graf(st_opazanj, st_vozlisc, min_cena, max_cena):\n",
    "    st_pov_grafa = 2 * st_vozlisc^2 - 2 * st_vozlisc\n",
    "    utezi = seznam_cen(st_opazanj, st_pov_grafa, min_cena, max_cena)\n",
    "    graf_oblika = DiGraph(graphs.Grid2dGraph(st_vozlisc, st_vozlisc).edges())\n",
    "    return(graf_oblika, utezi)\n"
   ]
  },
  {
   "cell_type": "code",
   "execution_count": 6,
   "metadata": {
    "collapsed": false
   },
   "outputs": [
   ],
   "source": [
    "#poišče najkrajšo pot x. \n",
    "#Poti je množica iz x, av_pov so povprečne cene povezav, diagonala je diagonala matrike epsilon\n",
    "#x = argmin{x \\in X} <(povprecen c + povprecen d), x>\n",
    "\n",
    "def argmin(poti, av_pov, diagonala):\n",
    "    x_min = poti[0]\n",
    "    cena_pov = numpy.dot(av_pov, x_min)\n",
    "    cena_d = numpy.dot(diagonala, x_min)\n",
    "    cena = cena_pov + cena_d\n",
    "    for i in range(1, len(poti)):\n",
    "        x_nov = poti[i]\n",
    "        cena_pov_nov = numpy.dot(av_pov, x_nov)\n",
    "        cena_d_nov = numpy.dot(diagonala, x_nov)\n",
    "        cena_nov = cena_pov_nov + cena_d_nov\n",
    "        if cena_nov < cena:\n",
    "            x_min = x_nov\n",
    "            cena_pov = cena_pov_nov\n",
    "            cena_d = cena_d_nov\n",
    "            cena = cena_nov\n",
    "    return(x_min, cena_pov, cena_d, cena)"
   ]
  },
  {
   "cell_type": "code",
   "execution_count": 7,
   "metadata": {
    "collapsed": false
   },
   "outputs": [
   ],
   "source": [
    "#poišče leksikografsko najcenejšo rešitev x iz seznama x\n",
    "#x = arglexmin{x \\in X}(<povprecen c, x>, <povprecen d, x>)\n",
    "\n",
    "def arglexmin(seznam_x, vektorji):\n",
    "    xmin = min(([numpy.dot(numpy.array(v), numpy.array(x)) for v in vektorji], x) for x in seznam_x)\n",
    "    return xmin #vrne ceno po prvem vektorju v seznamu in ceno po drugem vektorju v seznamu, ter najcenejšo leksikografsko rešitev"
   ]
  },
  {
   "cell_type": "code",
   "execution_count": 0,
   "metadata": {
    "collapsed": false
   },
   "outputs": [
   ],
   "source": [
    "#Kar rabi funkcija razisci2 za poganjanje.\n",
    "\n",
    "[grafi, weights] = min_grid_graf(50, 9, 1, 100)\n",
    "diagonalci = numpy.diag(kov_matrika(weights))\n",
    "povprecje_w = [i * 1/len(weights) for i in [sum(x) for x in zip(*weights)]]\n",
    "xi = vektorcki_x(grafi, (0, 0), (8, 8))\n",
    "xl = arglexmin(xi, [povprecje_w, diagonalci]) \n",
    "xln = xl[1] #leva leksikografska rešitev\n",
    "xr = arglexmin(xi, [diagonalci, povprecje_w])\n",
    "xrn = xr[1] #desna leksikografska rešitev"
   ]
  },
  {
   "cell_type": "code",
   "execution_count": 8,
   "metadata": {
    "collapsed": false
   },
   "outputs": [
   ],
   "source": [
    "#slaba praksa algoritma, vendar drugače nama ni šlo, semznam in stevac morata biti pred vsakim poganjanjem funkcije napisana pred njo\n",
    "#To je naivni algoritem.\n",
    "#x0 je \n",
    "\n",
    "#semznam = []\n",
    "#stevac = 0\n",
    "def razisci2(x0, x1, pov, diag, poti):\n",
    "    global stevac\n",
    "    alfa_m = numpy.dot(diag,numpy.subtract(x1,x0)) / numpy.dot(numpy.subtract(pov,diag),numpy.subtract(x0,x1))\n",
    "    v_alfa = numpy.dot(alfa_m, pov)\n",
    "    v_1alfa = numpy.dot((1-alfa_m), diag)\n",
    "    vek_zv = numpy.add(v_alfa, v_1alfa)\n",
    "    x_zv = argmin(poti, v_alfa, v_1alfa)\n",
    "    stevac = stevac + 1\n",
    "    stara_najboljsa = argmin([x0], numpy.dot(alfa_m, pov), numpy.dot((1-alfa_m), diag))[3]\n",
    "    if x_zv[3] < stara_najboljsa:\n",
    "        #print(\"Dodali smo novo uč. eks. reš.\")\n",
    "        semznam.append(x_zv[0])\n",
    "        if -x_zv[3] + stara_najboljsa > 0.01:\n",
    "            #print(\"Razlika dovolj velika\")\n",
    "            razisci2(x0, x_zv[0], pov, diag, poti)\n",
    "            razisci2(x_zv[0], x1, pov, diag, poti)"
   ]
  },
  {
   "cell_type": "code",
   "execution_count": 0,
   "metadata": {
    "collapsed": false
   },
   "outputs": [
   ],
   "source": [
    "#Zagon razisci2 oz. naivnega algoritma\n",
    "\n",
    "semznam = []\n",
    "stevac = 0\n",
    "razisci2(xln, xrn, povprecje_w, diagonalci, xi)\n",
    "print(semznam)\n",
    "print(stevac)"
   ]
  },
  {
   "cell_type": "code",
   "execution_count": 1,
   "metadata": {
    "collapsed": false
   },
   "outputs": [
   ],
   "source": [
    "#zapisuje rezultate, ki jih pridobimo z naivnim algoritmom, na grafih različnih velikosti\n",
    "#najprej sva definirala različne velikosti, na katerih sva algoritem izvedla, ko sva pognala za grafe velikosti 10x10 pa program ni več zmogel.\n",
    "\n",
    "import json\n",
    "\n",
    "tipi_grafov = [3, 4, 5, 6, 7, 8, 9] #velikosti n x n mrežastih grafov\n",
    "casi = [] #povprecni casi komputacij za grafe različnih velikosti\n",
    "stetja = [] #povprecno število reševanj optimizacijskega problema najkrajših poti\n",
    "for i in range(0, len(tipi_grafov)):\n",
    "    print(\"TIP GRAFA \", tipi_grafov[i])\n",
    "    vmesni_casi = []\n",
    "    vmesna_stetja = []\n",
    "    for j in range(0, 30):\n",
    "        [grafi, weights] = min_grid_graf(50, tipi_grafov[i], 1, 100)\n",
    "        povprecje_w = [i * 1/len(weights) for i in [sum(x) for x in zip(*weights)]]\n",
    "        diagonalci = numpy.diag(kov_matrika(weights))\n",
    "        xi = vektorcki_x(grafi, (0, 0), (tipi_grafov[i] - 1, tipi_grafov[i] - 1))\n",
    "        xl = arglexmin(xi, [povprecje_w, diagonalci])\n",
    "        xln = xl[1]\n",
    "        xr = arglexmin(xi, [diagonalci, povprecje_w])\n",
    "        xrn = xr[1]\n",
    "        while xln == xrn:  #če sta leksikografski rešitvi slučajno enaki, algoritem ne vrne smiselnih rezultatov, ponovimo\n",
    "            [grafi, weights] = min_grid_graf(50, tipi_grafov[i], 1, 100)\n",
    "            povprecje_w = [i * 1/len(weights) for i in [sum(x) for x in zip(*weights)]]\n",
    "            diagonalci = numpy.diag(kov_matrika(weights))\n",
    "            xi = vektorcki_x(grafi, (0, 0), (tipi_grafov[i] - 1, tipi_grafov[i] - 1))\n",
    "            xl = arglexmin(xi, [povprecje_w, diagonalci])\n",
    "            xln = xl[1]\n",
    "        xr = arglexmin(xi, [diagonalci, povprecje_w])\n",
    "        xrn = xr[1]\n",
    "        semznam = []\n",
    "        stevac = 0\n",
    "        start_time = time.time() \n",
    "        razisci2(xln, xrn, povprecje_w, diagonalci, xi)\n",
    "        celoten_cas = (time.time() - start_time) #čas potreben za delovanje naivnega algoritma (funkcija razisci2)\n",
    "        print(\"NAREJEN GRAF\")\n",
    "        print(\"Cas za en graf je\", celoten_cas)\n",
    "        print(\"Stetje za en graf je\", stevac)\n",
    "        vmesni_casi.append(celoten_cas)\n",
    "        vmesna_stetja.append(stevac)\n",
    "    print(\"Povprecje vmesnih casov je\", mean(vmesni_casi))\n",
    "    casi.append(mean(vmesni_casi))\n",
    "    print(\"Povprecje vmesnih stetji je\", mean(vmesna_stetja))\n",
    "    stetja.append(mean(vmesna_stetja))\n",
    "    print(\"USTVARJENI PODATKI ZA TIP\")\n",
    "    \n",
    "with open(\"rezultati_naiven_na_30.json\", 'w') as f:\n",
    "    f.write(str(casi))\n",
    "    f.write(str(stetja))"
   ]
  }
 ],
 "metadata": {
  "kernelspec": {
   "display_name": "SageMath 9.2",
   "language": "sagemath",
   "metadata": {
    "cocalc": {
     "description": "Open-source mathematical software system",
     "priority": 10,
     "url": "https://www.sagemath.org/"
    }
   },
   "name": "sage-9.2",
   "resource_dir": "/ext/jupyter/kernels/sage-9.2"
  },
  "language_info": {
   "codemirror_mode": {
    "name": "ipython",
    "version": 3
   },
   "file_extension": ".py",
   "mimetype": "text/x-python",
   "name": "python",
   "nbconvert_exporter": "python",
   "pygments_lexer": "ipython3",
   "version": "3.8.5"
  }
 },
 "nbformat": 4,
 "nbformat_minor": 4
}