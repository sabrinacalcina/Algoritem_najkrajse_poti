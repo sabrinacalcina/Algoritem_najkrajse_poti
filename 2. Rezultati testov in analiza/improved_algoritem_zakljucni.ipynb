{
 "cells": [
  {
   "cell_type": "code",
   "execution_count": 1,
   "metadata": {
    "collapsed": false
   },
   "outputs": [
   ],
   "source": [
    "import random\n",
    "import sage.graphs.graph_plot\n",
    "from sage.graphs.base.boost_graph import *\n",
    "from sage.plot.point import *\n",
    "import numpy"
   ]
  },
  {
   "cell_type": "code",
   "execution_count": 2,
   "metadata": {
    "collapsed": false
   },
   "outputs": [
   ],
   "source": [
    "#enako kot v \"naivni_algoritem_koncni.ipynb\"\n",
    "\n",
    "def seznam_cen(st_opazanj, st_pov_grafa, min_cena, max_cena):\n",
    "    sur_podatki = []\n",
    "    for i in range(0, st_opazanj):\n",
    "        mer_povezav = []\n",
    "        for j in range(0, st_pov_grafa):\n",
    "            mer_povezav.append(numpy.random.random_integers(min_cena, max_cena))\n",
    "        sur_podatki.append(mer_povezav)\n",
    "    return(sur_podatki)\n",
    "\n",
    "#stevilo_pov_grafa = 2 * st_vozlisc^2 - 2 * st_vozlisc"
   ]
  },
  {
   "cell_type": "code",
   "execution_count": 3,
   "metadata": {
    "collapsed": false
   },
   "outputs": [
   ],
   "source": [
    "#enako kot v \"naivni_algoritem_koncni.ipynb\"\n",
    "\n",
    "def mnoz(vektor1, vektor2):\n",
    "    matrika = []\n",
    "    for i in range(0,len(vektor1)):\n",
    "        vrstica =[]\n",
    "        for j in range(0, len(vektor2)):\n",
    "            vrstica.append(vektor1[i] * vektor2[j])\n",
    "        matrika.append(vrstica)\n",
    "    return(matrika)\n",
    "\n",
    "def kov_matrika(vse_utezi):\n",
    "    avr_pov = [i * 1/len(vse_utezi) for i in [sum(x) for x in zip(*vse_utezi)]]\n",
    "    zac_mat = mnoz(numpy.subtract(vse_utezi[0],avr_pov),numpy.subtract(vse_utezi[0],avr_pov))\n",
    "    for i in range(1, len(vse_utezi)):\n",
    "        zac_mat = numpy.add(zac_mat, mnoz(numpy.subtract(vse_utezi[i],avr_pov),numpy.subtract(vse_utezi[i],avr_pov)))\n",
    "    kon_mat = numpy.dot(1/len(vse_utezi), zac_mat)\n",
    "    return(kon_mat)"
   ]
  },
  {
   "cell_type": "code",
   "execution_count": 4,
   "metadata": {
    "collapsed": false
   },
   "outputs": [
   ],
   "source": [
    "#enako kot v \"naivni_algoritem_koncni.ipynb\"\n",
    "\n",
    "def vektorcki_x(graf, zacetno, koncno):\n",
    "    vse_poti = graf.all_paths(zacetno, koncno, use_multiedges=True, report_edges=False, labels=False)\n",
    "    vse_povezave = graf.edges()\n",
    "    par = []\n",
    "    for i in range(0,len(vse_povezave)):\n",
    "        par.append(vse_povezave[i][0:2])\n",
    "    seznam_vektorjev = []\n",
    "    for i in range(0, len(vse_poti)):\n",
    "        pot = (vse_poti[i])\n",
    "        prvi_oklepaj1 = list(zip(pot, pot[1:] + pot[:1]))\n",
    "        prvi_oklepaj = prvi_oklepaj1[:-1]\n",
    "        x=[]\n",
    "        for i in range(0, len(par)):\n",
    "            if par[i] in prvi_oklepaj:\n",
    "                x.append(1)\n",
    "            else:\n",
    "                x.append(0)\n",
    "        seznam_vektorjev.append(x)\n",
    "    return(seznam_vektorjev)"
   ]
  },
  {
   "cell_type": "code",
   "execution_count": 5,
   "metadata": {
    "collapsed": false
   },
   "outputs": [
   ],
   "source": [
    "#enako kot v \"naivni_algoritem_koncni.ipynb\"\n",
    "\n",
    "def grid_graf(st_opazanj, st_vozlisc, min_cena, max_cena):\n",
    "    st_pov_grafa = 2 * st_vozlisc^2 - 2 * st_vozlisc\n",
    "    utezi = seznam_cen(st_opazanj, st_pov_grafa, min_cena, max_cena)\n",
    "    graf_seznam = graphs.Grid2dGraph(st_vozlisc, st_vozlisc).edges()\n",
    "    nov = [] #najprej spremeniva v list\n",
    "    for i in range(0,len(graf_seznam)):\n",
    "        nov.append(list(graf_seznam[i]))\n",
    "    konec = [] #dodava še ceno, v obliki ki jo sprjema digraph\n",
    "    seznam_grafov = []\n",
    "    for j in range(0,len(utezi)):\n",
    "        zadnji = []\n",
    "        for i in range(0,len(nov)):\n",
    "            vmesni = []\n",
    "            vmesni.append(nov[i][0])\n",
    "            vmesni.append(nov[i][1])\n",
    "            vmesni.append(utezi[j][i])\n",
    "            zadnji.append(tuple(vmesni))\n",
    "        konec.append(zadnji)\n",
    "        gr = DiGraph(zadnji)\n",
    "        seznam_grafov.append(gr)\n",
    "    return(seznam_grafov, utezi)\n"
   ]
  },
  {
   "cell_type": "code",
   "execution_count": 6,
   "metadata": {
    "collapsed": false
   },
   "outputs": [
   ],
   "source": [
    "#enako kot v \"naivni_algoritem_koncni.ipynb\"\n",
    "\n",
    "def min_grid_graf(st_opazanj, st_vozlisc, min_cena, max_cena):\n",
    "    st_pov_grafa = 2 * st_vozlisc^2 - 2 * st_vozlisc\n",
    "    utezi = seznam_cen(st_opazanj, st_pov_grafa, min_cena, max_cena)\n",
    "    graf_oblika = DiGraph(graphs.Grid2dGraph(st_vozlisc, st_vozlisc).edges())\n",
    "    return(graf_oblika, utezi)"
   ]
  },
  {
   "cell_type": "code",
   "execution_count": 7,
   "metadata": {
    "collapsed": false
   },
   "outputs": [
   ],
   "source": [
    "#enako kot v \"naivni_algoritem_koncni.ipynb\"\n",
    "\n",
    "def argmin(poti, av_pov, diagonala):\n",
    "    x_min = poti[0]\n",
    "    cena_pov = numpy.dot(av_pov, x_min)\n",
    "    cena_d = numpy.dot(diagonala, x_min)\n",
    "    cena = cena_pov + cena_d\n",
    "    for i in range(1, len(poti)):\n",
    "        x_nov = poti[i]\n",
    "        cena_pov_nov = numpy.dot(av_pov, x_nov)\n",
    "        cena_d_nov = numpy.dot(diagonala, x_nov)\n",
    "        cena_nov = cena_pov_nov + cena_d_nov\n",
    "        if cena_nov < cena:\n",
    "            x_min = x_nov\n",
    "            cena_pov = cena_pov_nov\n",
    "            cena_d = cena_d_nov\n",
    "            cena = cena_nov\n",
    "    return(x_min, cena_pov, cena_d, cena)"
   ]
  },
  {
   "cell_type": "code",
   "execution_count": 8,
   "metadata": {
    "collapsed": false
   },
   "outputs": [
   ],
   "source": [
    "#enako kot v \"naivni_algoritem_koncni.ipynb\"\n",
    "\n",
    "def arglexmin(seznam_x, vektorji):\n",
    "    xmin = min(([numpy.dot(numpy.array(v), numpy.array(x)) for v in vektorji], x) for x in seznam_x)\n",
    "    return xmin"
   ]
  },
  {
   "cell_type": "code",
   "execution_count": 9,
   "metadata": {
    "collapsed": false
   },
   "outputs": [
   ],
   "source": [
    "#rešuje optimizacijski problem najkrajše poti, kjer je skalarni produkt po diagonali matrike korenjen\n",
    "\n",
    "def argmin_kor(poti, av_pov, diagonala):\n",
    "    x_rob = poti[0]\n",
    "    cena_av = numpy.dot(x_rob, av_pov)\n",
    "    cena_d = sqrt(numpy.dot(x_rob, diagonala))\n",
    "    cena = cena_av + cena_d\n",
    "    for i in range(1, len(poti)):\n",
    "        x_nov = poti[i]\n",
    "        cena_av_nov = numpy.dot(poti[i], av_pov)\n",
    "        cena_d_nov = sqrt(numpy.dot(poti[i], diagonala))\n",
    "        cena_nov = cena_av_nov + cena_d_nov\n",
    "        if cena_nov < cena:\n",
    "            x_rob = x_nov\n",
    "            cena = cena_nov\n",
    "    return(x_rob, cena)"
   ]
  },
  {
   "cell_type": "code",
   "execution_count": 1,
   "metadata": {
    "collapsed": false
   },
   "outputs": [
   ],
   "source": [
    "#Vse kar potrebujemo za izboljsan algoritem\n",
    " \n",
    "[grafi, weights] = min_grid_graf(50 , 5, 1, 100) #ustvari množico negotovosti ter graf\n",
    "povprecje_w = [i * 1/len(weights) for i in [sum(x) for x in zip(*weights)]] #povprecna cena povezav\n",
    "diagonalci = numpy.diag(kov_matrika(weights)) #diagonale matrike epsilon\n",
    "xi = vektorcki_x(grafi, (0, 0), (4, 4)) #vse poti med zacetnim (0,0) in koncnim (V, V) vozliscem\n",
    "\n",
    "xl = arglexmin(xi, [povprecje_w, diagonalci]) #leva leksikografska resitev\n",
    "xl_vekt = xl[1]\n",
    "xr = arglexmin(xi, [diagonalci, povprecje_w]) #desna leksikografska rešitev\n",
    "xr_vekt = xr[1]\n",
    "#print(xl_vekt == xr_vekt) #preverimo če sta slučajno enaka\n",
    "\n",
    "#tocke za zacetek\n",
    "prva_tocka = xl[0] #vrednosti leve lekikografske rešitve priredi tocko (<xl_vekt, povprecje_w>, <xl_vekt, diagonalci>)\n",
    "druga_tocka = [prva_tocka[0], tretja_tocka[1]] #(<xl_vekt, povprecje_w>, <xr_vekt, diagonalci>), v nadaljevanju je ne uporabljamo\n",
    "tretja_tocka = [xr[0][1], xr[0][0]] #vrednosti desne lekikografske rešitve priredi tocko (<xr_vekt, povprecje_w>, <xr_vekt, diagonalci>)\n",
    "[x_rob, OBJ] = argmin_kor([xl_vekt, xr_vekt], povprecje_w, diagonalci) #x_rob najcenejsa pot izmed vektorjev xl_vekt, xr_vekt, OBJ je cena te poti\n",
    "P = numpy.dot(povprecje_w, x_rob) #OBJ razclenjen\n",
    "D = sqrt(numpy.dot(diagonalci, x_rob))  #OBJ razclenjen\n",
    "\n",
    "#zacetni tocki\n",
    "a = prva_tocka[0]\n",
    "b = OBJ - sqrt(tretja_tocka[1]) #presecisce med vodoravnico in krivuljo (OBJ-x)^2\n"
   ]
  },
  {
   "cell_type": "code",
   "execution_count": 10,
   "metadata": {
    "collapsed": false
   },
   "outputs": [
   ],
   "source": [
    "#Izboljsan algoritem\n",
    "#slaba praksa, xevje in stevec morata biti podana preden zaženemo funkcijo\n",
    "#rob1 predstavlja levo krajisce intervala, rob2 pa desno. Zacetni rob1 je a, zacetni rob2 je b.\n",
    "\n",
    "# xevje = []\n",
    "# stevec = 0\n",
    "def intervali3(rob1, rob2, OBJ, x, P, D, xi, average_c, d):\n",
    "    global stevec\n",
    "    m = (rob1 + rob2) / 2 #srednja tocka intervala\n",
    "    alfa_m = 2 * (m - OBJ) / (2 * (m - OBJ) - 1) \n",
    "    [x_new, pov_x_new, diag_x_new, cena_x_new] = argmin(xi, numpy.dot(alfa_m, average_c), numpy.dot((1-alfa_m), d)) #problem najkrajsih poti obtezen z alfa_m\n",
    "    stevec = stevec + 1\n",
    "    if 2 * (m - OBJ) * P - 2 * (m - OBJ) * pov_x_new + diag_x_new <= D: #preverjanje, če pride do izboljsanja\n",
    "        x = x_new #posodabljanje podatkov\n",
    "        #print(\"dodajamo\")\n",
    "        xevje.append(x)\n",
    "        P = pov_x_new #posodabljanje podatkov\n",
    "        D = diag_x_new #posodabljanje podatkov\n",
    "        OBJ = P + D #posodabljanje podatkov\n",
    "        naklon = 2 * (m - OBJ) #posodabljanje podatkov\n",
    "        zac_vr = (OBJ - m)^2 - naklon * m #posodabljanje podatkov\n",
    "        var('z')\n",
    "        sol = solve(0 == z^2 - (2 * OBJ + naklon) * z +(OBJ^2 - zac_vr), z)\n",
    "        nsol = [N(s.rhs()) for s in sol]\n",
    "        #print(nsol)\n",
    "        if len(nsol) == 1: #krivulja (OBJ-x)^2 in premica y = naklon * x + zac_vr se dotikata\n",
    "            nsol = [nsol[0], nsol[0]]\n",
    "        if nsol[0].is_real() == True: #preverja, če prva vrednost ni imaginarna, torej če se krivulja in premica sekata\n",
    "            #print(\"prvi interval\")\n",
    "            intervali3(rob1, nsol[0], OBJ, x, P, D, xi, average_c, d)\n",
    "        if nsol[1].is_real() == True: #enako za drugo vrednost\n",
    "            #print(\"drugi interval\")\n",
    "            intervali3(nsol[1], rob2, OBJ, x, P, D, xi, average_c, d)\n"
   ]
  },
  {
   "cell_type": "code",
   "execution_count": 2,
   "metadata": {
    "collapsed": false
   },
   "outputs": [
   ],
   "source": [
    "#poganjanje intervali3, oz. izboljsani algoritem\n",
    "xevje = []\n",
    "stevec = 0\n",
    "intervali3(a, b, OBJ, x_rob, P, D, xi, povprecje_w, diagonalci)\n",
    "print(xevje)\n",
    "print(stevec)"
   ]
  },
  {
   "cell_type": "code",
   "execution_count": 3,
   "metadata": {
    "collapsed": false
   },
   "outputs": [
   ],
   "source": [
    "#zapisovanje rešitev, ki jih vrne izboljsani algoritem podobno, kot pri naivnem algoritmu\n",
    "\n",
    "import time\n",
    "import json\n",
    "\n",
    "tipi_grafov = [3,4,5,6,7,8,9] #velikosti grafov\n",
    "casi = [] #povprecni casi komputacij za grafe različnih velikosti\n",
    "stetja = [] #povprecno število reševanj optimizacijskega problema najkrajših poti\n",
    "for i in range(0, len(tipi_grafov)):\n",
    "    print(\"TIP GRAFA \", tipi_grafov[i])\n",
    "    vmesni_casi = []\n",
    "    vmesna_stetja = []\n",
    "    for j in range(0, 30):\n",
    "        [grafi, weights] = min_grid_graf(50 , tipi_grafov[i], 1, 100)\n",
    "        povprecje_w = [i * 1/len(weights) for i in [sum(x) for x in zip(*weights)]]\n",
    "        diagonalci = numpy.diag(kov_matrika(weights))\n",
    "        xi = vektorcki_x(grafi, (0, 0), (tipi_grafov[i] - 1, tipi_grafov[i] - 1))\n",
    "        xl = arglexmin(xi, [povprecje_w, diagonalci])\n",
    "        xl_vekt = xl[1]\n",
    "        xr = arglexmin(xi, [diagonalci, povprecje_w])\n",
    "        xr_vekt = xr[1]\n",
    "        while xl_vekt == xr_vekt: #če sta leksikografski rešitvi slučajno enaki, algoritem ne vrne smiselnih rezultatov, ponovimo\n",
    "            [grafi, weights] = min_grid_graf(50 , tipi_grafov[i], 1, 100)\n",
    "            povprecje_w = [i * 1/len(weights) for i in [sum(x) for x in zip(*weights)]]\n",
    "            diagonalci = numpy.diag(kov_matrika(weights))\n",
    "            xi = vektorcki_x(grafi, (0, 0), (tipi_grafov[i] - 1, tipi_grafov[i] - 1))\n",
    "            xl = arglexmin(xi, [povprecje_w, diagonalci])\n",
    "            xl_vekt = xl[1]\n",
    "            xr = arglexmin(xi, [diagonalci, povprecje_w])\n",
    "            xr_vekt = xr[1]\n",
    "        prva_tocka = xl[0]\n",
    "        tretja_tocka = [xr[0][1], xr[0][0]]\n",
    "        druga_tocka = [prva_tocka[0], tretja_tocka[1]]\n",
    "        [x_rob, OBJ] = argmin_kor([xl_vekt, xr_vekt], povprecje_w, diagonalci)\n",
    "        P = numpy.dot(povprecje_w, x_rob)\n",
    "        D = sqrt(numpy.dot(diagonalci, x_rob))\n",
    "        a = prva_tocka[0]\n",
    "        b = OBJ - sqrt(tretja_tocka[1])\n",
    "        xevje = []\n",
    "        stevec = 1\n",
    "        start_time = time.time()\n",
    "        intervali3(a, b, OBJ, x_rob, P, D, xi, povprecje_w, diagonalci)\n",
    "        celoten_cas = (time.time() - start_time)\n",
    "        print(\"NAREJEN GRAF\")\n",
    "        print(\"Cas za en graf je\", celoten_cas)\n",
    "        print(\"Stevec za en graf je \", stevec)\n",
    "        vmesni_casi.append(celoten_cas)\n",
    "        vmesna_stetja.append(stevec)\n",
    "    print(\"Povprecje vmesnih casov je\", mean(vmesni_casi))\n",
    "    casi.append(mean(vmesni_casi))\n",
    "    print(\"Povprecje vmesnih stetji je\", mean(vmesna_stetja))\n",
    "    stetja.append(mean(vmesna_stetja))\n",
    "    print(\"USTVARJENI PODATKI ZA TIP\")\n",
    "    \n",
    "with open(\"rezultati_improved_na_30.json\", 'w') as f:\n",
    "    f.write(str(casi))\n",
    "    f.write(str(stetja))"
   ]
  }
 ],
 "metadata": {
  "kernelspec": {
   "display_name": "SageMath 9.2",
   "language": "sagemath",
   "metadata": {
    "cocalc": {
     "description": "Open-source mathematical software system",
     "priority": 10,
     "url": "https://www.sagemath.org/"
    }
   },
   "name": "sage-9.2",
   "resource_dir": "/ext/jupyter/kernels/sage-9.2"
  },
  "language_info": {
   "codemirror_mode": {
    "name": "ipython",
    "version": 3
   },
   "file_extension": ".py",
   "mimetype": "text/x-python",
   "name": "python",
   "nbconvert_exporter": "python",
   "pygments_lexer": "ipython3",
   "version": "3.8.5"
  }
 },
 "nbformat": 4,
 "nbformat_minor": 4
}