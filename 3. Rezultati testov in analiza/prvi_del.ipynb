{
 "cells": [
  {
   "cell_type": "markdown",
   "metadata": {
    "collapsed": false
   },
   "source": [
    "Prvi del najinega projekta"
   ]
  },
  {
   "cell_type": "code",
   "execution_count": 72,
   "metadata": {
    "collapsed": false
   },
   "outputs": [
   ],
   "source": [
    "import random\n",
    "import sage.graphs.graph_plot\n",
    "from sage.graphs.base.boost_graph import *\n",
    "from sage.plot.point import *\n",
    "import numpy"
   ]
  },
  {
   "cell_type": "markdown",
   "metadata": {
    "collapsed": false
   },
   "source": [
    "Funkcija, ki nam vrne c-je kot seznam seznamov"
   ]
  },
  {
   "cell_type": "code",
   "execution_count": 4,
   "metadata": {
    "collapsed": false
   },
   "outputs": [
   ],
   "source": [
    "def seznam_cen(st_opazanj, st_pov_grafa, min_cena, max_cena):\n",
    "    sur_podatki = []\n",
    "    for i in range(0, st_opazanj):\n",
    "        mer_povezav = []\n",
    "        for j in range(0, st_pov_grafa):\n",
    "            mer_povezav.append(random.uniform(min_cena, max_cena))\n",
    "        sur_podatki.append(mer_povezav)\n",
    "    return(sur_podatki)\n",
    "\n",
    "#print(seznam_cen(5, 10, 0, 10))"
   ]
  },
  {
   "cell_type": "markdown",
   "metadata": {
    "collapsed": false
   },
   "source": [
    "Funkcija, ki nam zmnoži vektor z transponiranim vektorjem"
   ]
  },
  {
   "cell_type": "code",
   "execution_count": 5,
   "metadata": {
    "collapsed": false
   },
   "outputs": [
   ],
   "source": [
    "def mnoz(vektor1, vektor2):\n",
    "    matrika = []\n",
    "    for i in range(0,len(vektor1)):\n",
    "        vrstica =[]\n",
    "        for j in range(0, len(vektor2)):\n",
    "            vrstica.append(vektor1[i] * vektor2[j])\n",
    "        matrika.append(vrstica)\n",
    "    return(matrika)"
   ]
  },
  {
   "cell_type": "markdown",
   "metadata": {
    "collapsed": false
   },
   "source": [
    "Kovariancna matrika"
   ]
  },
  {
   "cell_type": "code",
   "execution_count": 6,
   "metadata": {
    "collapsed": false
   },
   "outputs": [
   ],
   "source": [
    "def kov_matrika(vse_utezi):\n",
    "    avr_pov = [i * 1/len(vse_utezi) for i in [sum(x) for x in zip(*vse_utezi)]]\n",
    "    zac_mat = numpy.matrix(mnoz(numpy.subtract(vse_utezi[0],avr_pov),numpy.subtract(vse_utezi[0],avr_pov)))\n",
    "    for i in range(1, len(vse_utezi)):\n",
    "        zac_mat += numpy.matrix(mnoz(numpy.subtract(vse_utezi[i],avr_pov),numpy.subtract(vse_utezi[i],avr_pov)))\n",
    "    kon_mat = 1/len(vse_utezi)*zac_mat\n",
    "    return(kon_mat)\n",
    "\n",
    "#diagonala:\n",
    "#numpy.diag(testna_kov_mat)\n"
   ]
  },
  {
   "cell_type": "markdown",
   "metadata": {
    "collapsed": false
   },
   "source": [
    "Generiramo sosednosti (vozlišča za graf)"
   ]
  },
  {
   "cell_type": "code",
   "execution_count": 7,
   "metadata": {
    "collapsed": false
   },
   "outputs": [
   ],
   "source": [
    "def nakljucno_vozlisce(st_vozlisc1):\n",
    "    start = random.randint(0, st_vozlisc1)\n",
    "    end = random.randint(0,st_vozlisc1)\n",
    "    if start == end:\n",
    "        return nakljucno_vozlisce(st_vozlisc1)\n",
    "    else:\n",
    "        return[start, end]\n",
    "\n",
    "#nakljucno_vozlisce(ggrafi[8])\n",
    "\n",
    "def vsa_vozlisca(koliko, st_pov1):\n",
    "    vozlisca = []\n",
    "    for i in range(0, st_pov1):\n",
    "        x = nakljucno_vozlisce(koliko)\n",
    "        while x in vozlisca:\n",
    "            x = nakljucno_vozlisce(koliko)\n",
    "        vozlisca.append(x)\n",
    "    return vozlisca"
   ]
  },
  {
   "cell_type": "markdown",
   "metadata": {
    "collapsed": false
   },
   "source": [
    "Generiramo naključen graf:"
   ]
  },
  {
   "cell_type": "code",
   "execution_count": 8,
   "metadata": {
    "collapsed": false
   },
   "outputs": [
   ],
   "source": [
    "def graf(st_opazanj, st_vozlisc, st_pov_grafa, min_cena, max_cena):\n",
    "    utezi2 = seznam_cen(st_opazanj, st_pov_grafa, min_cena, max_cena)\n",
    "    #graf_seznam = graphs.RandomGNM(st_vozlisc, st_pov_grafa).edges(labels=False)\n",
    "    graf_seznam =  vsa_vozlisca(st_vozlisc, st_pov_grafa)\n",
    "    nov = [] #najprej spremeniva v list\n",
    "    for i in range(0,len(graf_seznam)):\n",
    "        nov.append(list(graf_seznam[i]))\n",
    "    konec = [] #dodava še ceno, v obliki ki jo sprjema digraph\n",
    "    seznam_gra = []\n",
    "    for j in range(0,len(utezi2)):\n",
    "        zadnji = []\n",
    "        for i in range(0,len(nov)):\n",
    "            vmesni = []\n",
    "            vmesni.append(nov[i][0])\n",
    "            vmesni.append(nov[i][1])\n",
    "            vmesni.append(utezi2[j][i])\n",
    "            zadnji.append(tuple(vmesni))\n",
    "        konec.append(zadnji)\n",
    "        gr = DiGraph(zadnji)\n",
    "        seznam_gra.append(gr)\n",
    "    #seznam_gra[0].show(edge_labels = True)\n",
    "    return(seznam_gra, utezi2)\n",
    "\n",
    "#graf(5, 15, 150, 1, 5)[0][0].show(edge_labels = True)"
   ]
  },
  {
   "cell_type": "markdown",
   "metadata": {
    "collapsed": false
   },
   "source": [
    "Vektorji poti x"
   ]
  },
  {
   "cell_type": "code",
   "execution_count": 9,
   "metadata": {
    "collapsed": false
   },
   "outputs": [
   ],
   "source": [
    "def vektorcki_x(graf, zacetno, koncno):\n",
    "    vse_poti = graf.all_paths(zacetno, koncno, use_multiedges=True, report_edges=False, labels=False)\n",
    "    vse_povezave = graf.edges()\n",
    "    par = []\n",
    "    for i in range(0,len(vse_povezave)):\n",
    "        par.append(vse_povezave[i][0:2])\n",
    "    seznam_vektorjev = []\n",
    "    for i in range(0, len(vse_poti)):\n",
    "        pot = (vse_poti[i])\n",
    "        prvi_oklepaj1 = list(zip(pot, pot[1:] + pot[:1]))\n",
    "        prvi_oklepaj = prvi_oklepaj1[:-1]\n",
    "        x=[]\n",
    "        for i in range(0, len(par)):\n",
    "            if par[i] in prvi_oklepaj:\n",
    "                x.append(1)\n",
    "            else:\n",
    "                x.append(0)\n",
    "        seznam_vektorjev.append(x)\n",
    "    return(seznam_vektorjev)\n",
    "\n",
    "#x = ((graf(5, 5, 10, 1, 5))[0][0])\n",
    "#x.show()\n",
    "#vektorcki_x(x, 2, 4)"
   ]
  },
  {
   "cell_type": "markdown",
   "metadata": {
    "collapsed": false
   },
   "source": [
    "Izračunamo ceno določene poti"
   ]
  },
  {
   "cell_type": "code",
   "execution_count": 10,
   "metadata": {
    "collapsed": false
   },
   "outputs": [
   ],
   "source": [
    "def povprecje(cene1):\n",
    "    seznam_cen = list(cene1.values())\n",
    "    povprecne_cene = []\n",
    "    for i in range(0, len(seznam_cen)):\n",
    "        povprecne_cene.append(numpy.average(seznam_cen[i]))\n",
    "    return(povprecne_cene)\n",
    "\n",
    "\n",
    "def vektor_skalarni_produkt(cene1, start, end, graf):\n",
    "    cene_poti = {}\n",
    "    for i in range(0,len(cene1)):\n",
    "        x = vektorcki_x(graf[0], start, end)\n",
    "        vmesni = []\n",
    "        for j in range(0,len(x)):\n",
    "            vmesni.append(numpy.dot(cene[i], x[j]))\n",
    "        cene_poti[i] = vmesni\n",
    "    return\n",
    "\n",
    "\n"
   ]
  },
  {
   "cell_type": "markdown",
   "metadata": {
    "collapsed": false
   },
   "source": [
    "Celotna priprava vseh reči, ki jih potrebujemo neposredno za naivni algoritem"
   ]
  },
  {
   "cell_type": "code",
   "execution_count": 123,
   "metadata": {
    "collapsed": false
   },
   "outputs": [
    {
     "name": "stdout",
     "output_type": "stream",
     "text": [
      "5\n",
      "[0, 0, 1, 1, 0, 0, 0, 0, 0, 0, 0, 0, 0, 0, 0]\n",
      "[0, 0, 1, 0, 0, 1, 0, 0, 0, 0, 1, 0, 0, 0, 0]\n"
     ]
    }
   ],
   "source": [
    "#prvo narediva vektorja xr in xl, za začetek najinega algoritma\n",
    "#graf(st_opazanj, st_vozlisc, st_pov_grafa, min_cena, max_cena)\n",
    "\n",
    "[seznam_gra, utezi] = graf(5, 4, 15, 0, 10)\n",
    "#velikost d in avr_pov ga ne moti\n",
    "d = numpy.diag(kov_matrika(utezi))\n",
    "avr_pov = [i * 1/len(utezi) for i in [sum(x) for x in zip(*utezi)]]\n",
    "E = 0.3\n",
    "\n",
    "x = vektorcki_x(seznam_gra[0], 1, 4)\n",
    "print(len(x))\n",
    "#VIDALIJEV PREDLOG ZA ARGLEXMIN\n",
    "def arglexmin(seznam_x, vektorji):\n",
    "    xmin = min(([numpy.dot(numpy.array(v), numpy.array(x)) for v in vektorji], x) for x in seznam_x)\n",
    "    return (xmin, xmin[0][0]+xmin[0][1])\n",
    "\n",
    "\n",
    "[najmanjsi_xl, cenal] = arglexmin(x, [avr_pov, d])\n",
    "#[najmanjsi_xl, cenal] = arglexmin(x, [numpy.dot((1-E), avr_pov), numpy.dot(E, d)])\n",
    "najmanjsi_xl_pravi = najmanjsi_xl[1]\n",
    "print(najmanjsi_xl_pravi)\n",
    "\n",
    "\n",
    "[najmanjsi_xr, cenar] = arglexmin(x, [d, avr_pov])\n",
    "#[najmanjsi_xr, cenar] = arglexmin(x, [numpy.dot((1-E), d),numpy.dot(E, avr_pov)])\n",
    "najmanjsi_xr_pravi = najmanjsi_xr[1]\n",
    "print(najmanjsi_xr_pravi)\n",
    "\n"
   ]
  },
  {
   "cell_type": "code",
   "execution_count": 2,
   "metadata": {},
   "outputs": [
    {
     "name": "stdout",
     "output_type": "stream",
     "text": [
      "[6.22227465 7.12932793 5.80432774 6.29460578 5.56051444 6.04111419\n",
      " 5.89212958 7.76972488 5.3361346  5.69213029 4.20136272 5.53070992\n",
      " 5.78499396 6.43730951 7.44081423 5.96913073 6.26672527 6.31785283\n",
      " 5.17022781 6.12144991 5.40079155 6.08292819 5.19774188 6.10124539\n",
      " 5.13114446 6.90731357 5.67626584 6.15107118 5.62728402 5.28556941\n",
      " 5.93098913 6.03067475 6.02824514 6.1542347  5.66083946 5.97574579\n",
      " 6.61377233 5.43424209 5.84694112 5.57674309 6.78456014 5.81782964\n",
      " 5.78170467 5.6327407  6.17639694 5.52602933 6.21779843 5.8174579\n",
      " 6.19982456 6.28144854 6.49556572 5.49529928 6.42737631 5.60263258\n",
      " 5.48447798 5.50554969 5.47809805 5.88661584 5.78296128 6.46123439\n",
      " 5.72348    6.37125257 6.17507277 5.49079807 5.80818563 5.79613263\n",
      " 6.38824681 5.83944885 5.43335975 5.84206904 5.69549386 5.60100418\n",
      " 4.97267476 6.58956946 4.99844233 6.84728479 5.69669292 4.79383322\n",
      " 6.10209725 4.47276883 5.65858723 6.43077867 6.75368543 6.01937691\n",
      " 4.83865267 5.74565975 4.95467636 6.35474601 5.07313043 6.36158544\n",
      " 6.4752953  5.38002592 6.40230384 6.52243553 5.74054187 5.23388655\n",
      " 5.23743717 6.6044786  6.73869331 5.74027987]\n",
      "90.55909579496301\n",
      "[6.84229077 9.40592835 7.53021693 7.120313   5.50717703 6.90881286\n",
      " 6.91264791 9.32255643 6.97902919 6.95474396 5.15691577 6.68483022\n",
      " 5.99651177 8.04385777 9.47148668 6.75301001 7.0673714  8.73512816\n",
      " 6.05672769 6.56631784 5.38035407 8.54328561 6.57759817 6.32167443\n",
      " 6.46326497 9.5738222  6.35538365 8.14105419 6.7266093  6.77127057\n",
      " 7.18191755 7.78938299 7.79080304 7.61021648 6.77364827 7.39466904\n",
      " 7.94171929 6.93708954 6.41651644 7.6427771  8.53101888 6.24955005\n",
      " 6.39752797 6.97577929 8.43737166 6.62380724 7.83684678 6.40095866\n",
      " 6.38455682 6.25540992 9.25508247 7.29591854 8.02123506 7.23837568\n",
      " 6.30748316 6.33752846 6.72270343 6.94395914 5.80102908 9.15622478\n",
      " 5.75829753 5.7042422  6.24997044 6.49511338 7.39070344 6.50843546\n",
      " 6.98626343 8.35338551 6.85381374 6.0206257  6.75592749 7.19096293\n",
      " 6.8128659  7.60279892 6.55915513 8.66690986 6.88361996 6.19738633\n",
      " 7.37494496 5.82841948 6.34320149 8.65464872 9.07851522 7.68829926\n",
      " 5.30969287 6.33057794 5.91984464 7.74139323 5.82115315 8.11545974\n",
      " 8.3261419  6.39119927 8.14460489 8.38697067 7.5337347  5.81993074\n",
      " 6.02244677 7.74201344 9.30614271 6.32434402]\n",
      "109.04755443596137\n"
     ]
    }
   ],
   "source": [
    "import json\n",
    "\n",
    "st_opazanj, st_vozlisc, st_pov_grafa, min_cena, max_cena = 20, 20, 100, 0, 10\n",
    "\n",
    "with open(\"graf_{}_{}_{}_{}_{}.json\".format(st_opazanj, st_vozlisc, st_pov_grafa, min_cena, max_cena)) as f:\n",
    "    vektor_xl, xl, vektor_xr, xr = json.load(f)\n",
    "vektor_xl = numpy.array(vektor_xl)\n",
    "vektor_xr = numpy.array(vektor_xr)\n",
    "\n",
    "print(vektor_xl)\n",
    "print(xl)\n",
    "print(vektor_xr)\n",
    "print(xr)"
   ]
  },
  {
   "cell_type": "code",
   "execution_count": 108,
   "metadata": {
    "collapsed": false
   },
   "outputs": [
    {
     "ename": "NameError",
     "evalue": "name 'vektor_xl' is not defined",
     "output_type": "error",
     "traceback": [
      "\u001b[0;31m---------------------------------------------------------------------------\u001b[0m",
      "\u001b[0;31mNameError\u001b[0m                                 Traceback (most recent call last)",
      "\u001b[0;32m<ipython-input-108-d78d9f5c639e>\u001b[0m in \u001b[0;36m<module>\u001b[0;34m\u001b[0m\n\u001b[1;32m     11\u001b[0m     \u001b[0;32mreturn\u001b[0m\u001b[0;34m(\u001b[0m\u001b[0mnajmanjsi_x\u001b[0m\u001b[0;34m)\u001b[0m\u001b[0;34m\u001b[0m\u001b[0;34m\u001b[0m\u001b[0m\n\u001b[1;32m     12\u001b[0m \u001b[0;34m\u001b[0m\u001b[0m\n\u001b[0;32m---> 13\u001b[0;31m \u001b[0mnajmanjsi_xl2\u001b[0m \u001b[0;34m=\u001b[0m \u001b[0mnajmanjsi_x\u001b[0m\u001b[0;34m(\u001b[0m\u001b[0mx\u001b[0m\u001b[0;34m,\u001b[0m \u001b[0mvektor_xl\u001b[0m\u001b[0;34m)\u001b[0m\u001b[0;34m\u001b[0m\u001b[0;34m\u001b[0m\u001b[0m\n\u001b[0m\u001b[1;32m     14\u001b[0m \u001b[0mnajmanjsi_xr2\u001b[0m \u001b[0;34m=\u001b[0m \u001b[0mnajmanjsi_x\u001b[0m\u001b[0;34m(\u001b[0m\u001b[0mx\u001b[0m\u001b[0;34m,\u001b[0m \u001b[0mvektor_xr\u001b[0m\u001b[0;34m)\u001b[0m\u001b[0;34m\u001b[0m\u001b[0;34m\u001b[0m\u001b[0m\n\u001b[1;32m     15\u001b[0m \u001b[0mprint\u001b[0m\u001b[0;34m(\u001b[0m\u001b[0mnajmanjsi_xl2\u001b[0m\u001b[0;34m)\u001b[0m\u001b[0;34m\u001b[0m\u001b[0;34m\u001b[0m\u001b[0m\n",
      "\u001b[0;31mNameError\u001b[0m: name 'vektor_xl' is not defined"
     ]
    }
   ],
   "source": [
    "#Prvotna funkcija, pred popravki asistent(je ne uporabljamo v nadaljevanju)\n",
    "\n",
    "def najmanjsi_x(seznam_x, vektor):\n",
    "    najmanjsi_x = seznam_x[0]\n",
    "    najmanjsi_skalarni_produkt = numpy.dot(vektor, numpy.array(seznam_x[0]))\n",
    "    for i in range(1,len(seznam_x)):\n",
    "        vrednost = numpy.dot(vektor, numpy.array(seznam_x[i]))\n",
    "        if vrednost < najmanjsi_skalarni_produkt:\n",
    "            najmanjsi_skalarni_produkt = vrednost\n",
    "            najmanjsi_x = seznam_x[i]\n",
    "    return(najmanjsi_x)\n",
    "\n",
    "najmanjsi_xl2 = najmanjsi_x(x, vektor_xl)\n",
    "najmanjsi_xr2 = najmanjsi_x(x, vektor_xr)\n",
    "print(najmanjsi_xl2)\n",
    "print(najmanjsi_xr2)\n",
    "\n",
    "\n",
    "#vektor_xl =  numpy.add(numpy.dot((1-E), numpy.array(avr_pov)), numpy.dot(E,numpy.array(d)))\n",
    "#print(vektor_xl)\n",
    "#xl= numpy.dot(vektor_xl, numpy.array(x[0])) #prvi vektor\n",
    "#print(xl)\n",
    "\n",
    "#vektor_xr = numpy.add(numpy.dot(E, numpy.array(avr_pov)), numpy.dot((1-E),numpy.array(d)))\n",
    "#xr= numpy.dot((vektor_xr), numpy.array(x[0]))\n",
    "#print(xr)\n"
   ]
  },
  {
   "cell_type": "code",
   "execution_count": 109,
   "metadata": {
    "collapsed": false
   },
   "outputs": [
    {
     "name": "stdout",
     "output_type": "stream",
     "text": [
      "10000\n"
     ]
    }
   ],
   "source": [
    "import sys\n",
    "sys.setrecursionlimit(10000)\n",
    "print(sys.getrecursionlimit())\n"
   ]
  },
  {
   "cell_type": "markdown",
   "metadata": {
    "collapsed": false
   },
   "source": [
    "Naivni algoritem"
   ]
  },
  {
   "cell_type": "code",
   "execution_count": 125,
   "metadata": {
    "collapsed": false,
    "scrolled": true
   },
   "outputs": [
    {
     "name": "stdout",
     "output_type": "stream",
     "text": [
      "Izboljšava ni najdena.\n",
      "[[0, 0, 1, 1, 0, 0, 0, 0, 0, 0, 0, 0, 0, 0, 0]]\n"
     ]
    }
   ],
   "source": [
    "uer3 = []\n",
    "def razisci3(x0, x1, pov, diag, poti):\n",
    "    if x0 == x1:\n",
    "        print(\"x0 in x1 sta enaka.\")\n",
    "    else:\n",
    "        alfa_m = numpy.dot(diag,numpy.subtract(x1,x0)) / numpy.dot(numpy.subtract(pov,diag),numpy.subtract(x0,x1))\n",
    "        vek_zv = numpy.add(numpy.dot(alfa_m, numpy.array(pov)), numpy.dot((1-alfa_m),numpy.array(diag)))\n",
    "        v_zv_alfa = numpy.dot(alfa_m, numpy.array(pov))\n",
    "        v_zv_ena_minus_alfa = numpy.dot((1-alfa_m),numpy.array(diag))\n",
    "        x_zv = arglexmin(poti, [v_zv_alfa, v_zv_ena_minus_alfa])[0][1]\n",
    "        #print(x_zv)\n",
    "        #print(numpy.dot(vek_zv, x_zv))\n",
    "        #print(numpy.dot(vek_zv, x0))\n",
    "        if numpy.dot(vek_zv, x_zv) < numpy.dot(vek_zv, x0):\n",
    "            print(\"Najdeno je bilo izboljšanje.\")\n",
    "            uer3.append(x_zv)\n",
    "            razisci(x0, x_zv, pov, diag, poti)\n",
    "            razisci(x_zv, x1, pov, diag, poti)\n",
    "        else:\n",
    "            print(\"Izboljšava ni najdena.\")\n",
    "            uer3.append(x0)\n",
    "    return(print(uer3))\n",
    "\n",
    "\n",
    "uc_res = razisci3(najmanjsi_xl_pravi, najmanjsi_xr_pravi, avr_pov, d, x)\n"
   ]
  },
  {
   "cell_type": "markdown",
   "metadata": {
    "collapsed": false
   },
   "source": [
    "Priprava na izboljšani algoritem"
   ]
  },
  {
   "cell_type": "code",
   "execution_count": 126,
   "metadata": {
    "collapsed": false
   },
   "outputs": [
    {
     "name": "stdout",
     "output_type": "stream",
     "text": [
      "(([10.029634602417488, 17.0482183688286], [0, 0, 1, 1, 0, 0, 0, 0, 0, 0, 0, 0, 0, 0, 0]), 27.077852971246088)\n",
      "(([13.43175118107915, 17.393038075430255], [0, 0, 1, 0, 0, 1, 0, 0, 0, 0, 1, 0, 0, 0, 0]), 30.824789256509405)\n",
      "[10.029634602417488, 17.0482183688286]\n",
      "[10.029634602417488, 17.393038075430255]\n",
      "[13.43175118107915, 17.393038075430255]\n"
     ]
    },
    {
     "data": {
      "image/png": "[encoded data removed]",
      "text/plain": [
       "Graphics object consisting of 1 graphics primitive"
      ]
     },
     "execution_count": 126,
     "metadata": {
     },
     "output_type": "execute_result"
    }
   ],
   "source": [
    "#naše točke za trikotnik\n",
    "\n",
    "d = numpy.diag(kov_matrika(utezi))\n",
    "avr_pov = [i * 1/len(utezi) for i in [sum(x) for x in zip(*utezi)]]\n",
    "\n",
    "A = 0.3\n",
    "#p_xl = arglexmin(x, [numpy.dot((1-A), avr_pov),numpy.dot(A, d)])\n",
    "p_xl = arglexmin(x, [avr_pov, d])\n",
    "print(p_xl)\n",
    "najin_xl = p_xl[0][1]\n",
    "#p_xr = arglexmin(x, [numpy.dot((1-A), d),numpy.dot(A, avr_pov)])\n",
    "p_xr = arglexmin(x, [d, avr_pov])\n",
    "najin_xr = p_xr[0][1]\n",
    "print(p_xr)\n",
    "\n",
    "prva_tocka = p_xl[0][0]\n",
    "druga_tocka = [p_xl[0][0][0], p_xr[0][0][1]]\n",
    "tretja_tocka = p_xr[0][0]\n",
    "print(prva_tocka)\n",
    "print(druga_tocka)\n",
    "print(tretja_tocka)\n",
    "\n",
    "point([prva_tocka, druga_tocka, tretja_tocka])"
   ]
  },
  {
   "cell_type": "code",
   "execution_count": 129,
   "metadata": {
    "collapsed": false
   },
   "outputs": [
    {
     "name": "stdout",
     "output_type": "stream",
     "text": [
      "([10.029634602417488, 4.128948821289579], [0, 0, 1, 1, 0, 0, 0, 0, 0, 0, 0, 0, 0, 0, 0], 14.158583423707068)\n"
     ]
    }
   ],
   "source": [
    "#x rob\n",
    "#def argmin(seznam_xl_xr, vektorji):\n",
    "#    xmin = min(([numpy.dot(numpy.array(v), numpy.array(x))  for v in vektorji], x) for x in seznam_x)\n",
    "#    return (xmin, [xmin, xmin[0][0]+xmin[0][1])\n",
    "#(([2.397638258326723, 3.978466909885242], [0, 0, 0, 0, 0, 0, 1, 0, 0, 0, 0, 0, 0, 0, 0]), 6.376105168211964)\n",
    "                   \n",
    "def argmin(seznam_xl_xr, vektorji):\n",
    "    najmanjsi_x = seznam_xl_xr[0]\n",
    "    skalarni_ena = numpy.dot(vektorji[0], najmanjsi_x)\n",
    "    skalarni_koren = sqrt(numpy.dot(vektorji[1], najmanjsi_x))\n",
    "    najmanjsi_skalarni_produkt = skalarni_ena + skalarni_koren\n",
    "    for i in range(1,len(seznam_xl_xr)):\n",
    "        skalarni_ena1 = numpy.dot(vektorji[0], seznam_xl_xr[i])\n",
    "        skalarni_koren1 = sqrt(numpy.dot(vektorji[1], seznam_xl_xr[i]))\n",
    "        skalarni_produkt1 = skalarni_ena + skalarni_koren\n",
    "        if skalarni_produkt1 < najmanjsi_skalarni_produkt:\n",
    "            najmanjsi_x = seznam_x[i]\n",
    "            skalarni_ena = skalarni_ena1\n",
    "            skalarni_koren = skalarni_koren1\n",
    "            najmanjsi_skalarni_produkt = skalarni_produkt1 #najmanjsi skalarni produkt je OBJ\n",
    "    vrnitev = ([skalarni_ena, skalarni_koren], najmanjsi_x, najmanjsi_skalarni_produkt)\n",
    "    return(vrnitev)\n",
    "                   \n",
    "x_rob = argmin([najin_xl, najin_xr], [avr_pov, d])\n",
    "print(x_rob)\n",
    "\n"
   ]
  },
  {
   "cell_type": "code",
   "execution_count": 0,
   "metadata": {
    "collapsed": false
   },
   "outputs": [
   ],
   "source": [
   ]
  },
  {
   "cell_type": "code",
   "execution_count": 0,
   "metadata": {
    "collapsed": false
   },
   "outputs": [
   ],
   "source": [
   ]
  }
 ],
 "metadata": {
  "kernelspec": {
   "display_name": "SageMath 9.2",
   "language": "sagemath",
   "metadata": {
    "cocalc": {
     "description": "Open-source mathematical software system",
     "priority": 10,
     "url": "https://www.sagemath.org/"
    }
   },
   "name": "sage-9.2"
  },
  "language_info": {
   "codemirror_mode": {
    "name": "ipython",
    "version": 3
   },
   "file_extension": ".py",
   "mimetype": "text/x-python",
   "name": "python",
   "nbconvert_exporter": "python",
   "pygments_lexer": "ipython3",
   "version": "3.8.5"
  }
 },
 "nbformat": 4,
 "nbformat_minor": 4
}
